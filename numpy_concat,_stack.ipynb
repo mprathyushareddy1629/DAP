{
  "nbformat": 4,
  "nbformat_minor": 5,
  "metadata": {
    "kernelspec": {
      "display_name": "Python 3",
      "language": "python",
      "name": "python3"
    },
    "language_info": {
      "codemirror_mode": {
        "name": "ipython",
        "version": 3
      },
      "file_extension": ".py",
      "mimetype": "text/x-python",
      "name": "python",
      "nbconvert_exporter": "python",
      "pygments_lexer": "ipython3",
      "version": "3.8.8"
    },
    "colab": {
      "name": "numpy concat, stack.ipynb",
      "provenance": [],
      "include_colab_link": true
    }
  },
  "cells": [
    {
      "cell_type": "markdown",
      "metadata": {
        "id": "view-in-github",
        "colab_type": "text"
      },
      "source": [
        "<a href=\"https://colab.research.google.com/github/mprathyushareddy1629/DAP/blob/main/numpy_concat%2C_stack.ipynb\" target=\"_parent\"><img src=\"https://colab.research.google.com/assets/colab-badge.svg\" alt=\"Open In Colab\"/></a>"
      ]
    },
    {
      "cell_type": "code",
      "metadata": {
        "id": "05a59e93",
        "outputId": "dfde1122-9877-41fb-ef72-017d26afdb89"
      },
      "source": [
        "import numpy as np\n",
        "\n",
        "arr1 = np.array([1, 2, 3])\n",
        "\n",
        "arr2 = np.array([4, 5, 6])\n",
        "\n",
        "arr = np.concatenate((arr1, arr2))\n",
        "\n",
        "print(arr) "
      ],
      "id": "05a59e93",
      "execution_count": null,
      "outputs": [
        {
          "name": "stdout",
          "output_type": "stream",
          "text": [
            "[1 2 3 4 5 6]\n"
          ]
        }
      ]
    },
    {
      "cell_type": "code",
      "metadata": {
        "id": "59617e1e",
        "outputId": "5f265716-8287-4bd0-d2b1-aaa0e43fe3fd"
      },
      "source": [
        "import numpy as np\n",
        "\n",
        "arr1 = np.array([[1, 2], [3, 4]])\n",
        "\n",
        "print(\"arr1=\", arr1) \n",
        "\n",
        "arr2 = np.array([[5, 6], [7, 8]])\n",
        "\n",
        "print(\"arr2=\", arr2) \n",
        "\n",
        "print(\"after concatenation =\")\n",
        "\n",
        "arr = np.concatenate((arr1, arr2), axis=1) #0=row, 1=col\n",
        "\n",
        "print(arr) "
      ],
      "id": "59617e1e",
      "execution_count": null,
      "outputs": [
        {
          "name": "stdout",
          "output_type": "stream",
          "text": [
            "arr1= [[1 2]\n",
            " [3 4]]\n",
            "arr2= [[5 6]\n",
            " [7 8]]\n",
            "after concatenation =\n",
            "[[1 2 5 6]\n",
            " [3 4 7 8]]\n"
          ]
        }
      ]
    },
    {
      "cell_type": "code",
      "metadata": {
        "id": "253e2b79",
        "outputId": "7e63e5d3-6996-4334-923c-8bfeea2d06c4"
      },
      "source": [
        "import numpy as np\n",
        "\n",
        "arr1 = np.array([[1, 2], [3, 4]])\n",
        "\n",
        "print(\"arr1=\", arr1) \n",
        "\n",
        "arr2 = np.array([[5, 6], [7, 8]])\n",
        "\n",
        "print(\"arr2=\", arr2) \n",
        "\n",
        "print(\"after concatenation =\")\n",
        "arr = np.concatenate((arr1, arr2), axis=0) #0=row, 1=col\n",
        "\n",
        "print(arr) "
      ],
      "id": "253e2b79",
      "execution_count": null,
      "outputs": [
        {
          "name": "stdout",
          "output_type": "stream",
          "text": [
            "arr1= [[1 2]\n",
            " [3 4]]\n",
            "arr2= [[5 6]\n",
            " [7 8]]\n",
            "after concatenation =\n",
            "[[1 2]\n",
            " [3 4]\n",
            " [5 6]\n",
            " [7 8]]\n"
          ]
        }
      ]
    },
    {
      "cell_type": "code",
      "metadata": {
        "id": "c774320c",
        "outputId": "617ae378-1251-46ab-98a0-c6bee48be621"
      },
      "source": [
        "import numpy as np\n",
        "\n",
        "arr1 = np.array([1, 2, 3])\n",
        "\n",
        "arr2 = np.array([4, 5, 6])\n",
        "\n",
        "arr = np.hstack((arr1, arr2))\n",
        "\n",
        "print(arr) "
      ],
      "id": "c774320c",
      "execution_count": null,
      "outputs": [
        {
          "name": "stdout",
          "output_type": "stream",
          "text": [
            "[1 2 3 4 5 6]\n"
          ]
        }
      ]
    },
    {
      "cell_type": "code",
      "metadata": {
        "id": "57677231",
        "outputId": "91c9a2cb-0b42-4038-a288-0c8f0710f9f8"
      },
      "source": [
        "import numpy as np\n",
        "\n",
        "arr1 = np.array([1, 2, 3])\n",
        "\n",
        "arr2 = np.array([4, 5, 6])\n",
        "\n",
        "arr = np.vstack((arr1, arr2))\n",
        "\n",
        "print(arr) "
      ],
      "id": "57677231",
      "execution_count": null,
      "outputs": [
        {
          "name": "stdout",
          "output_type": "stream",
          "text": [
            "[[1 2 3]\n",
            " [4 5 6]]\n"
          ]
        }
      ]
    },
    {
      "cell_type": "code",
      "metadata": {
        "id": "b5d1d082",
        "outputId": "ba50f922-1984-4e04-b33a-b69f98320e37"
      },
      "source": [
        "a = np.array([1,2,3])\n",
        "\n",
        "b = np.array([4,5,6])\n",
        "\n",
        "print(\"hstack =\", np.hstack((a,b)))\n",
        "\n",
        "print(\"vstack =\", np.vstack((a,b)))\n",
        "\n",
        "a = np.array([[1],[2],[3]])\n",
        "\n",
        "b = np.array([[4],[5],[6]])\n",
        "\n",
        "print(\"hstack =\", np.hstack((a,b)))\n",
        "\n",
        "print(\"vstack =\", np.vstack((a,b)))\n"
      ],
      "id": "b5d1d082",
      "execution_count": null,
      "outputs": [
        {
          "name": "stdout",
          "output_type": "stream",
          "text": [
            "hstack = [1 2 3 4 5 6]\n",
            "vstack = [[1 2 3]\n",
            " [4 5 6]]\n",
            "hstack = [[1 4]\n",
            " [2 5]\n",
            " [3 6]]\n",
            "vstack = [[1]\n",
            " [2]\n",
            " [3]\n",
            " [4]\n",
            " [5]\n",
            " [6]]\n"
          ]
        }
      ]
    },
    {
      "cell_type": "code",
      "metadata": {
        "id": "36aba148",
        "outputId": "19290dc4-1ac9-409b-fb0b-e82ddd1d7c27"
      },
      "source": [
        "a = np.array([[1,2,3],[11,22,33],[111,222,333],[1111,2222,3333]])\n",
        "\n",
        "b = np.array([[7,8,9],[77,88,99],[777,888,999],[7777,8888,9999]])\n",
        "\n",
        "print(\"\\nhstack =\\n\", np.hstack((a,b)))\n",
        "\n",
        "print(\"\\n======next print======\")\n",
        "\n",
        "print(\"\\nvstack =\\n\", np.vstack((a,b)))\n",
        "\n",
        "arr = np.concatenate((a, b), axis=0)\n",
        "\n",
        "print(\"\\n======next print======\")\n",
        "\n",
        "print(\"\\n concatenate at axis 0=\\n\",arr)\n",
        "\n",
        "arr1 = np.concatenate((a, b), axis=1)\n",
        "\n",
        "print(\"\\n======next print======\")\n",
        "\n",
        "print(\"\\n concatenate at axis 1=\\n\",arr1)"
      ],
      "id": "36aba148",
      "execution_count": null,
      "outputs": [
        {
          "name": "stdout",
          "output_type": "stream",
          "text": [
            "\n",
            "hstack =\n",
            " [[   1    2    3    7    8    9]\n",
            " [  11   22   33   77   88   99]\n",
            " [ 111  222  333  777  888  999]\n",
            " [1111 2222 3333 7777 8888 9999]]\n",
            "\n",
            "======next print======\n",
            "\n",
            "vstack =\n",
            " [[   1    2    3]\n",
            " [  11   22   33]\n",
            " [ 111  222  333]\n",
            " [1111 2222 3333]\n",
            " [   7    8    9]\n",
            " [  77   88   99]\n",
            " [ 777  888  999]\n",
            " [7777 8888 9999]]\n",
            "\n",
            "======next print======\n",
            "\n",
            " concatenate at axis 0=\n",
            " [[   1    2    3]\n",
            " [  11   22   33]\n",
            " [ 111  222  333]\n",
            " [1111 2222 3333]\n",
            " [   7    8    9]\n",
            " [  77   88   99]\n",
            " [ 777  888  999]\n",
            " [7777 8888 9999]]\n",
            "\n",
            "======next print======\n",
            "\n",
            " concatenate at axis 1=\n",
            " [[   1    2    3    7    8    9]\n",
            " [  11   22   33   77   88   99]\n",
            " [ 111  222  333  777  888  999]\n",
            " [1111 2222 3333 7777 8888 9999]]\n"
          ]
        }
      ]
    },
    {
      "cell_type": "code",
      "metadata": {
        "id": "193038d9",
        "outputId": "5dbd82fc-f6af-41e9-f04e-01a163c29920"
      },
      "source": [
        "a= np.array([[1, 2, 3], [4, 5, 6]])\n",
        "print(a)"
      ],
      "id": "193038d9",
      "execution_count": null,
      "outputs": [
        {
          "name": "stdout",
          "output_type": "stream",
          "text": [
            "[[1 2 3]\n",
            " [4 5 6]]\n"
          ]
        }
      ]
    },
    {
      "cell_type": "code",
      "metadata": {
        "id": "c7325a2c",
        "outputId": "532c5645-8ec9-4e45-cb1d-8eb29bb57416"
      },
      "source": [
        "b = np.array([7,8,9])\n",
        "print(b)"
      ],
      "id": "c7325a2c",
      "execution_count": null,
      "outputs": [
        {
          "name": "stdout",
          "output_type": "stream",
          "text": [
            "[7 8 9]\n"
          ]
        }
      ]
    },
    {
      "cell_type": "code",
      "metadata": {
        "id": "bd5da924",
        "outputId": "b8bcf9d2-98ae-4c90-cef3-03c4e0e0d0d8"
      },
      "source": [
        "c = np.array([[7,8,9]])\n",
        "print(c)"
      ],
      "id": "bd5da924",
      "execution_count": null,
      "outputs": [
        {
          "name": "stdout",
          "output_type": "stream",
          "text": [
            "[[7 8 9]]\n"
          ]
        }
      ]
    },
    {
      "cell_type": "code",
      "metadata": {
        "id": "df9f416f",
        "outputId": "174f7692-d1d7-4507-c3b8-0ba1d6e4c705"
      },
      "source": [
        "np.append(a,b, axis=0)"
      ],
      "id": "df9f416f",
      "execution_count": null,
      "outputs": [
        {
          "ename": "ValueError",
          "evalue": "all the input arrays must have same number of dimensions, but the array at index 0 has 2 dimension(s) and the array at index 1 has 1 dimension(s)",
          "output_type": "error",
          "traceback": [
            "\u001b[1;31m---------------------------------------------------------------------------\u001b[0m",
            "\u001b[1;31mValueError\u001b[0m                                Traceback (most recent call last)",
            "\u001b[1;32m<ipython-input-27-b9eb344211ed>\u001b[0m in \u001b[0;36m<module>\u001b[1;34m\u001b[0m\n\u001b[1;32m----> 1\u001b[1;33m \u001b[0mnp\u001b[0m\u001b[1;33m.\u001b[0m\u001b[0mappend\u001b[0m\u001b[1;33m(\u001b[0m\u001b[0ma\u001b[0m\u001b[1;33m,\u001b[0m\u001b[0mb\u001b[0m\u001b[1;33m,\u001b[0m \u001b[0maxis\u001b[0m\u001b[1;33m=\u001b[0m\u001b[1;36m0\u001b[0m\u001b[1;33m)\u001b[0m\u001b[1;33m\u001b[0m\u001b[1;33m\u001b[0m\u001b[0m\n\u001b[0m",
            "\u001b[1;32m<__array_function__ internals>\u001b[0m in \u001b[0;36mappend\u001b[1;34m(*args, **kwargs)\u001b[0m\n",
            "\u001b[1;32m~\\anaconda3\\lib\\site-packages\\numpy\\lib\\function_base.py\u001b[0m in \u001b[0;36mappend\u001b[1;34m(arr, values, axis)\u001b[0m\n\u001b[0;32m   4743\u001b[0m         \u001b[0mvalues\u001b[0m \u001b[1;33m=\u001b[0m \u001b[0mravel\u001b[0m\u001b[1;33m(\u001b[0m\u001b[0mvalues\u001b[0m\u001b[1;33m)\u001b[0m\u001b[1;33m\u001b[0m\u001b[1;33m\u001b[0m\u001b[0m\n\u001b[0;32m   4744\u001b[0m         \u001b[0maxis\u001b[0m \u001b[1;33m=\u001b[0m \u001b[0marr\u001b[0m\u001b[1;33m.\u001b[0m\u001b[0mndim\u001b[0m\u001b[1;33m-\u001b[0m\u001b[1;36m1\u001b[0m\u001b[1;33m\u001b[0m\u001b[1;33m\u001b[0m\u001b[0m\n\u001b[1;32m-> 4745\u001b[1;33m     \u001b[1;32mreturn\u001b[0m \u001b[0mconcatenate\u001b[0m\u001b[1;33m(\u001b[0m\u001b[1;33m(\u001b[0m\u001b[0marr\u001b[0m\u001b[1;33m,\u001b[0m \u001b[0mvalues\u001b[0m\u001b[1;33m)\u001b[0m\u001b[1;33m,\u001b[0m \u001b[0maxis\u001b[0m\u001b[1;33m=\u001b[0m\u001b[0maxis\u001b[0m\u001b[1;33m)\u001b[0m\u001b[1;33m\u001b[0m\u001b[1;33m\u001b[0m\u001b[0m\n\u001b[0m\u001b[0;32m   4746\u001b[0m \u001b[1;33m\u001b[0m\u001b[0m\n\u001b[0;32m   4747\u001b[0m \u001b[1;33m\u001b[0m\u001b[0m\n",
            "\u001b[1;32m<__array_function__ internals>\u001b[0m in \u001b[0;36mconcatenate\u001b[1;34m(*args, **kwargs)\u001b[0m\n",
            "\u001b[1;31mValueError\u001b[0m: all the input arrays must have same number of dimensions, but the array at index 0 has 2 dimension(s) and the array at index 1 has 1 dimension(s)"
          ]
        }
      ]
    },
    {
      "cell_type": "code",
      "metadata": {
        "id": "1f4a3c1d",
        "outputId": "5b94b6f3-0431-45b6-eab1-4a0d4042adab"
      },
      "source": [
        "np.append(a,c, axis=0)"
      ],
      "id": "1f4a3c1d",
      "execution_count": null,
      "outputs": [
        {
          "data": {
            "text/plain": [
              "array([[1, 2, 3],\n",
              "       [4, 5, 6],\n",
              "       [7, 8, 9]])"
            ]
          },
          "execution_count": 28,
          "metadata": {},
          "output_type": "execute_result"
        }
      ]
    },
    {
      "cell_type": "code",
      "metadata": {
        "id": "9034c8a5",
        "outputId": "2dbd7d2d-d22b-49bf-96ef-5ed9d937df6f"
      },
      "source": [
        "import numpy as np\n",
        "a = np.array([1,2,3])\n",
        "b = np.array([5,6])\n",
        "np.concatenate((a,b))"
      ],
      "id": "9034c8a5",
      "execution_count": null,
      "outputs": [
        {
          "data": {
            "text/plain": [
              "array([1, 2, 3, 5, 6])"
            ]
          },
          "execution_count": 36,
          "metadata": {},
          "output_type": "execute_result"
        }
      ]
    },
    {
      "cell_type": "code",
      "metadata": {
        "id": "74195f3c",
        "outputId": "9197b40b-8950-4305-d96e-b108c4ee3f8b"
      },
      "source": [
        "np.r_[a,b]"
      ],
      "id": "74195f3c",
      "execution_count": null,
      "outputs": [
        {
          "data": {
            "text/plain": [
              "array([1, 2, 3, 5, 6])"
            ]
          },
          "execution_count": 37,
          "metadata": {},
          "output_type": "execute_result"
        }
      ]
    },
    {
      "cell_type": "code",
      "metadata": {
        "id": "d2a94578",
        "outputId": "82e2b79b-4c47-425f-d1af-4b835e705816"
      },
      "source": [
        "a = np.array([1, 2,3])\n",
        "b = np.array([5, 6,7])\n",
        "np.stack([a,b]).reshape(-1)"
      ],
      "id": "d2a94578",
      "execution_count": null,
      "outputs": [
        {
          "data": {
            "text/plain": [
              "array([1, 2, 3, 5, 6, 7])"
            ]
          },
          "execution_count": 45,
          "metadata": {},
          "output_type": "execute_result"
        }
      ]
    },
    {
      "cell_type": "code",
      "metadata": {
        "id": "92731993",
        "outputId": "3cc560a1-9755-4059-a055-eb4c1b4ce966"
      },
      "source": [
        "a = np.array([1, 2,3])\n",
        "b = np.array([5, 6,7])\n",
        "np.stack([a,b])"
      ],
      "id": "92731993",
      "execution_count": null,
      "outputs": [
        {
          "data": {
            "text/plain": [
              "array([[1, 2, 3],\n",
              "       [5, 6, 7]])"
            ]
          },
          "execution_count": 46,
          "metadata": {},
          "output_type": "execute_result"
        }
      ]
    },
    {
      "cell_type": "code",
      "metadata": {
        "id": "e3d49a13",
        "outputId": "ce081b67-0a05-49dc-9b42-2d8560c19b47"
      },
      "source": [
        "print()"
      ],
      "id": "e3d49a13",
      "execution_count": null,
      "outputs": [
        {
          "name": "stdout",
          "output_type": "stream",
          "text": [
            "\n"
          ]
        }
      ]
    },
    {
      "cell_type": "code",
      "metadata": {
        "id": "22f9070a",
        "outputId": "efedf362-23f7-44c2-af80-1ab93ffb1085"
      },
      "source": [
        "a = np.array([[1,2,3],[11,22,33],[111,222,333],[1111,2222,3333]])\n",
        "\n",
        "b = np.array([[7,8,9],[77,88,99],[777,888,999],[7777,8888,9999]])\n",
        "\n",
        "print(\"\\nhstack =\\n\", np.hstack((a,b)))\n",
        "\n",
        "print(\"\\n======next print======\")\n",
        "\n",
        "print(\"\\nvstack =\\n\", np.vstack((a,b)))"
      ],
      "id": "22f9070a",
      "execution_count": null,
      "outputs": [
        {
          "name": "stdout",
          "output_type": "stream",
          "text": [
            "\n",
            "hstack =\n",
            " [[   1    2    3    7    8    9]\n",
            " [  11   22   33   77   88   99]\n",
            " [ 111  222  333  777  888  999]\n",
            " [1111 2222 3333 7777 8888 9999]]\n",
            "\n",
            "======next print======\n",
            "\n",
            "vstack =\n",
            " [[   1    2    3]\n",
            " [  11   22   33]\n",
            " [ 111  222  333]\n",
            " [1111 2222 3333]\n",
            " [   7    8    9]\n",
            " [  77   88   99]\n",
            " [ 777  888  999]\n",
            " [7777 8888 9999]]\n"
          ]
        }
      ]
    },
    {
      "cell_type": "code",
      "metadata": {
        "id": "5dc5b6ed",
        "outputId": "1344bbbf-99cb-436b-c5d7-6a4a9632f6c9"
      },
      "source": [
        "a = np.array([[1],[2],[3]])\n",
        "\n",
        "b = np.array([[8],[9],[10]])\n",
        "\n",
        "print(\"\\nhstack =\\n\", np.hstack((a,b)))\n",
        "\n",
        "print(\"\\n======next print======\")\n",
        "\n",
        "print(\"\\nvstack =\\n\", np.vstack((a,b)))"
      ],
      "id": "5dc5b6ed",
      "execution_count": null,
      "outputs": [
        {
          "name": "stdout",
          "output_type": "stream",
          "text": [
            "\n",
            "hstack =\n",
            " [[ 1  8]\n",
            " [ 2  9]\n",
            " [ 3 10]]\n",
            "\n",
            "======next print======\n",
            "\n",
            "vstack =\n",
            " [[ 1]\n",
            " [ 2]\n",
            " [ 3]\n",
            " [ 8]\n",
            " [ 9]\n",
            " [10]]\n"
          ]
        }
      ]
    },
    {
      "cell_type": "code",
      "metadata": {
        "id": "919b13f6",
        "outputId": "6ddaefff-00f1-4719-cb7d-0ffd69de6121"
      },
      "source": [
        "a = np.array([[1,2],[3,4]])\n",
        "\n",
        "b = np.array([[5,6],[7,8]])\n",
        "\n",
        "print(\"\\nhstack =\\n\", np.hstack((a,b)))\n",
        "\n",
        "print(\"\\n======next print======\")\n",
        "\n",
        "print(\"\\nvstack =\\n\", np.vstack((a,b)))"
      ],
      "id": "919b13f6",
      "execution_count": null,
      "outputs": [
        {
          "name": "stdout",
          "output_type": "stream",
          "text": [
            "\n",
            "hstack =\n",
            " [[1 2 5 6]\n",
            " [3 4 7 8]]\n",
            "\n",
            "======next print======\n",
            "\n",
            "vstack =\n",
            " [[1 2]\n",
            " [3 4]\n",
            " [5 6]\n",
            " [7 8]]\n"
          ]
        }
      ]
    },
    {
      "cell_type": "code",
      "metadata": {
        "id": "d3613750",
        "outputId": "7b4c483f-3f24-40d3-9183-24c43d61ca24"
      },
      "source": [
        "import numpy as np\n",
        "a = np.array([[1, 2], [3, 4]])\n",
        "b = np.array([[5, 6]])\n",
        "np.concatenate((a, b), axis=0)"
      ],
      "id": "d3613750",
      "execution_count": null,
      "outputs": [
        {
          "data": {
            "text/plain": [
              "array([[1, 2],\n",
              "       [3, 4],\n",
              "       [5, 6]])"
            ]
          },
          "execution_count": 54,
          "metadata": {},
          "output_type": "execute_result"
        }
      ]
    },
    {
      "cell_type": "code",
      "metadata": {
        "id": "2b19fc52",
        "outputId": "a82ac68e-1f9a-4007-f283-51f424ca8940"
      },
      "source": [
        "np.vstack((a,b))"
      ],
      "id": "2b19fc52",
      "execution_count": null,
      "outputs": [
        {
          "data": {
            "text/plain": [
              "array([[1, 2],\n",
              "       [3, 4],\n",
              "       [5, 6]])"
            ]
          },
          "execution_count": 55,
          "metadata": {},
          "output_type": "execute_result"
        }
      ]
    },
    {
      "cell_type": "code",
      "metadata": {
        "id": "2d18f152",
        "outputId": "0afbb74c-c3ec-46c0-db99-4e537666234e"
      },
      "source": [
        "np.concatenate((a, b), axis=1)"
      ],
      "id": "2d18f152",
      "execution_count": null,
      "outputs": [
        {
          "ename": "ValueError",
          "evalue": "all the input array dimensions for the concatenation axis must match exactly, but along dimension 0, the array at index 0 has size 2 and the array at index 1 has size 1",
          "output_type": "error",
          "traceback": [
            "\u001b[1;31m---------------------------------------------------------------------------\u001b[0m",
            "\u001b[1;31mValueError\u001b[0m                                Traceback (most recent call last)",
            "\u001b[1;32m<ipython-input-56-ab47451b2341>\u001b[0m in \u001b[0;36m<module>\u001b[1;34m\u001b[0m\n\u001b[1;32m----> 1\u001b[1;33m \u001b[0mnp\u001b[0m\u001b[1;33m.\u001b[0m\u001b[0mconcatenate\u001b[0m\u001b[1;33m(\u001b[0m\u001b[1;33m(\u001b[0m\u001b[0ma\u001b[0m\u001b[1;33m,\u001b[0m \u001b[0mb\u001b[0m\u001b[1;33m)\u001b[0m\u001b[1;33m,\u001b[0m \u001b[0maxis\u001b[0m\u001b[1;33m=\u001b[0m\u001b[1;36m1\u001b[0m\u001b[1;33m)\u001b[0m\u001b[1;33m\u001b[0m\u001b[1;33m\u001b[0m\u001b[0m\n\u001b[0m",
            "\u001b[1;32m<__array_function__ internals>\u001b[0m in \u001b[0;36mconcatenate\u001b[1;34m(*args, **kwargs)\u001b[0m\n",
            "\u001b[1;31mValueError\u001b[0m: all the input array dimensions for the concatenation axis must match exactly, but along dimension 0, the array at index 0 has size 2 and the array at index 1 has size 1"
          ]
        }
      ]
    },
    {
      "cell_type": "code",
      "metadata": {
        "id": "c1ccf1ad",
        "outputId": "5bdb2723-324a-4ffb-d24a-f4458ae02150"
      },
      "source": [
        "np.concatenate((a, b.T), axis=1)"
      ],
      "id": "c1ccf1ad",
      "execution_count": null,
      "outputs": [
        {
          "data": {
            "text/plain": [
              "array([[1, 2, 5],\n",
              "       [3, 4, 6]])"
            ]
          },
          "execution_count": 57,
          "metadata": {},
          "output_type": "execute_result"
        }
      ]
    },
    {
      "cell_type": "code",
      "metadata": {
        "id": "37576cda",
        "outputId": "4218ab8e-4333-4a4c-ca44-69210c8aea09"
      },
      "source": [
        "import numpy as np\n",
        "a = np.array([[1, 2], [3, 4]])\n",
        "b = np.array([5, 6])\n",
        "bb= np.array([[5, 6],[7,8]])\n",
        "cc=b.T\n",
        "\n",
        "print(\"vstack=\",np.vstack((a,cc)))\n",
        "\n",
        "print(\"hstack=\",np.hstack((a,bb)))"
      ],
      "id": "37576cda",
      "execution_count": null,
      "outputs": [
        {
          "name": "stdout",
          "output_type": "stream",
          "text": [
            "vstack= [[1 2]\n",
            " [3 4]\n",
            " [5 6]]\n",
            "hstack= [[1 2 5 6]\n",
            " [3 4 7 8]]\n"
          ]
        }
      ]
    },
    {
      "cell_type": "code",
      "metadata": {
        "id": "85eeed9a",
        "outputId": "7cebb336-97cb-4993-e51a-6801ed980e28"
      },
      "source": [
        "a = np.array((1,2,3))\n",
        "b = np.array((7,8,9))\n",
        "print(a)\n",
        "print(b)\n",
        "\n",
        "print(\"vstack\\n\")\n",
        "print(np.vstack((a,b)))\n",
        "print(\"concatenate\\n\")\n",
        "print(np.concatenate([a.reshape(1,3),b.reshape(1,3)]))\n",
        "print(\"stack\\n\")\n",
        "print(np.stack((a,b),axis=1))\n",
        "print(\"concatenate\\n\")\n",
        "print(np.concatenate((a.reshape(1,3),b.reshape(1,3)),axis = 1))\n",
        "print(\"stack\\n\")\n",
        "print(np.stack((a,b),axis=0))\n",
        "print(\"concatenate\\n\")\n",
        "print(np.concatenate((a.reshape(1,3),b.reshape(1,3)),axis = 0))"
      ],
      "id": "85eeed9a",
      "execution_count": null,
      "outputs": [
        {
          "name": "stdout",
          "output_type": "stream",
          "text": [
            "[1 2 3]\n",
            "[7 8 9]\n",
            "vstack\n",
            "\n",
            "[[1 2 3]\n",
            " [7 8 9]]\n",
            "concatenate\n",
            "\n",
            "[[1 2 3]\n",
            " [7 8 9]]\n",
            "stack\n",
            "\n",
            "[[1 7]\n",
            " [2 8]\n",
            " [3 9]]\n",
            "concatenate\n",
            "\n",
            "[[1 2 3 7 8 9]]\n",
            "stack\n",
            "\n",
            "[[1 2 3]\n",
            " [7 8 9]]\n",
            "concatenate\n",
            "\n",
            "[[1 2 3]\n",
            " [7 8 9]]\n"
          ]
        }
      ]
    },
    {
      "cell_type": "code",
      "metadata": {
        "id": "b2db6c43"
      },
      "source": [
        ""
      ],
      "id": "b2db6c43",
      "execution_count": null,
      "outputs": []
    }
  ]
}
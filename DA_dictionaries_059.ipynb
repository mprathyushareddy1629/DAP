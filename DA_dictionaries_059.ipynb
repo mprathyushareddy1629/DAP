{
  "nbformat": 4,
  "nbformat_minor": 0,
  "metadata": {
    "colab": {
      "name": "DA_dictionaries_059.ipynb",
      "provenance": [],
      "authorship_tag": "ABX9TyNik76OBJ1jJaGXWMqTwsRI",
      "include_colab_link": true
    },
    "kernelspec": {
      "name": "python3",
      "display_name": "Python 3"
    },
    "language_info": {
      "name": "python"
    }
  },
  "cells": [
    {
      "cell_type": "markdown",
      "metadata": {
        "id": "view-in-github",
        "colab_type": "text"
      },
      "source": [
        "<a href=\"https://colab.research.google.com/github/mprathyushareddy1629/DAP/blob/main/DA_dictionaries_059.ipynb\" target=\"_parent\"><img src=\"https://colab.research.google.com/assets/colab-badge.svg\" alt=\"Open In Colab\"/></a>"
      ]
    },
    {
      "cell_type": "code",
      "metadata": {
        "colab": {
          "base_uri": "https://localhost:8080/"
        },
        "id": "5KsfYigfzqus",
        "outputId": "b864f49a-50da-4f3d-9dec-53a2a008510e"
      },
      "source": [
        "dict={'name':'prathu','designation':'student','qual':'B.Tech','univ':'cmr'}\n",
        "print(dict['name'])\n",
        "\n",
        "\n",
        "print(dict['qual'])"
      ],
      "execution_count": null,
      "outputs": [
        {
          "output_type": "stream",
          "name": "stdout",
          "text": [
            "prathu\n",
            "B.Tech\n"
          ]
        }
      ]
    },
    {
      "cell_type": "code",
      "metadata": {
        "colab": {
          "base_uri": "https://localhost:8080/"
        },
        "id": "NTGDaU1RqsHr",
        "outputId": "2d7d6e4a-247e-4d0f-8a09-3ddfa928e165"
      },
      "source": [
        "dict={'name':'prathu','designation':'student','qual':'B.Tech','univ':'cmr'}\n",
        "print(dict)\n",
        "for i in dict:\n",
        "   print(i, dict[i])"
      ],
      "execution_count": null,
      "outputs": [
        {
          "output_type": "stream",
          "name": "stdout",
          "text": [
            "{'name': 'prathu', 'designation': 'student', 'qual': 'B.Tech', 'univ': 'cmr'}\n",
            "name prathu\n",
            "designation student\n",
            "qual B.Tech\n",
            "univ cmr\n"
          ]
        }
      ]
    },
    {
      "cell_type": "code",
      "metadata": {
        "colab": {
          "base_uri": "https://localhost:8080/"
        },
        "id": "wvithI6S0N1N",
        "outputId": "3e59ffa3-e9e1-4ff1-f66a-681faba39ca0"
      },
      "source": [
        "dict={'name':'prathu','designation':'student','qual':'B.Tech','univ':'cmr'}\n",
        "dict['name']='prathu'\n",
        "print(dict['name'])\n",
        "dict['class']='cse7sem'\n",
        "print(dict['class'])"
      ],
      "execution_count": null,
      "outputs": [
        {
          "output_type": "stream",
          "name": "stdout",
          "text": [
            "prathu\n",
            "cse7sem\n"
          ]
        }
      ]
    },
    {
      "cell_type": "code",
      "metadata": {
        "id": "CzazakVu2F2K"
      },
      "source": [
        "dict={'name':'prathu','designation':'student','qual':'B.Tech','univ':'cmr'}\n",
        "del dict['designation']\n",
        "#print(dict['designation'])\n",
        "dict.clear()\n",
        "#print(dict['name'])\n",
        "del dict\n"
      ],
      "execution_count": null,
      "outputs": []
    },
    {
      "cell_type": "code",
      "metadata": {
        "colab": {
          "base_uri": "https://localhost:8080/"
        },
        "id": "sfQMKdUC2-q_",
        "outputId": "25d8eb5e-227e-4388-e251-4f916313e90b"
      },
      "source": [
        "dict={'name':'prathu','designation':'student','qual':'B.Tech','univ':'cmr'}\n",
        "print(dict['name'])\n",
        "print(len(dict))"
      ],
      "execution_count": null,
      "outputs": [
        {
          "output_type": "stream",
          "name": "stdout",
          "text": [
            "prathu\n",
            "4\n"
          ]
        }
      ]
    },
    {
      "cell_type": "code",
      "metadata": {
        "colab": {
          "base_uri": "https://localhost:8080/"
        },
        "id": "gb5imb7x3IgJ",
        "outputId": "a3cf2b25-4b80-4db5-e006-a82acc745e07"
      },
      "source": [
        "dict={'name':'prathu','designation':'student','qual':'B.Tech','univ':'cmr'}\n",
        "print(dict.values())\n",
        "\n",
        "print(dict.items())\n",
        "\n",
        "print(dict.keys())"
      ],
      "execution_count": null,
      "outputs": [
        {
          "output_type": "stream",
          "name": "stdout",
          "text": [
            "dict_values(['prathu', 'student', 'B.Tech', 'cmr'])\n",
            "dict_items([('name', 'prathu'), ('designation', 'student'), ('qual', 'B.Tech'), ('univ', 'cmr')])\n",
            "dict_keys(['name', 'designation', 'qual', 'univ'])\n"
          ]
        }
      ]
    },
    {
      "cell_type": "code",
      "metadata": {
        "colab": {
          "base_uri": "https://localhost:8080/"
        },
        "id": "Eer6gsJZ7Unw",
        "outputId": "f9f60a8e-4da5-4a4e-9cbf-23a62d55c48c"
      },
      "source": [
        "dict={'name':'prathu','designation':'student','qual':'B.Tech','univ':'cmr'}\n",
        "print(dict['name'])\n",
        "\n",
        "print(dict.get('edu',\"nothing\"))"
      ],
      "execution_count": null,
      "outputs": [
        {
          "output_type": "stream",
          "name": "stdout",
          "text": [
            "prathu\n",
            "nothing\n"
          ]
        }
      ]
    },
    {
      "cell_type": "code",
      "metadata": {
        "colab": {
          "base_uri": "https://localhost:8080/"
        },
        "id": "BFB8oaKM7pbo",
        "outputId": "91643dd7-33a6-4ee3-ab74-d82efbee1425"
      },
      "source": [
        "dict={'name':'prathu','designation':'student','qual':'B.Tech','univ':'cmr'}\n",
        "dict2=dict.copy()\n",
        "print(dict2['name'])\n",
        "print(len(dict2))"
      ],
      "execution_count": null,
      "outputs": [
        {
          "output_type": "stream",
          "name": "stdout",
          "text": [
            "prathu\n",
            "4\n"
          ]
        }
      ]
    },
    {
      "cell_type": "code",
      "metadata": {
        "colab": {
          "base_uri": "https://localhost:8080/"
        },
        "id": "0dlzDndM8pz6",
        "outputId": "02131cb4-e575-415f-d1b3-704220f29249"
      },
      "source": [
        "dict={'name':'prathu','designation':'student','qual':'B.Tech','univ':'cmr'}\n",
        "dict2={'edu':'btech','student':'7sem'}\n",
        "print(dict)\n",
        "print(dict2)\n",
        "dict.update(dict2)\n",
        "print(dict)"
      ],
      "execution_count": null,
      "outputs": [
        {
          "output_type": "stream",
          "name": "stdout",
          "text": [
            "{'name': 'prathu', 'designation': 'student', 'qual': 'B.Tech', 'univ': 'cmr'}\n",
            "{'edu': 'btech', 'student': '7sem'}\n",
            "{'name': 'prathu', 'designation': 'student', 'qual': 'B.Tech', 'univ': 'cmr', 'edu': 'btech', 'student': '7sem'}\n"
          ]
        }
      ]
    },
    {
      "cell_type": "code",
      "metadata": {
        "id": "1wtuq4iM-Xmz"
      },
      "source": [
        ""
      ],
      "execution_count": null,
      "outputs": []
    }
  ]
}
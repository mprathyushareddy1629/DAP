{
  "nbformat": 4,
  "nbformat_minor": 0,
  "metadata": {
    "colab": {
      "name": "Prathyusha_dap2_strings.ipynb",
      "provenance": [],
      "collapsed_sections": [],
      "authorship_tag": "ABX9TyPNHcWB0nSlqTvIcdZH92Ue",
      "include_colab_link": true
    },
    "kernelspec": {
      "name": "python3",
      "display_name": "Python 3"
    },
    "language_info": {
      "name": "python"
    }
  },
  "cells": [
    {
      "cell_type": "markdown",
      "metadata": {
        "id": "view-in-github",
        "colab_type": "text"
      },
      "source": [
        "<a href=\"https://colab.research.google.com/github/mprathyushareddy1629/DAP/blob/main/DAP_strings_059.ipynb\" target=\"_parent\"><img src=\"https://colab.research.google.com/assets/colab-badge.svg\" alt=\"Open In Colab\"/></a>"
      ]
    },
    {
      "cell_type": "code",
      "metadata": {
        "colab": {
          "base_uri": "https://localhost:8080/"
        },
        "id": "wCoa_VlFlgJy",
        "outputId": "0cafa696-2168-4956-d641-9f394218cec6"
      },
      "source": [
        "var1='Hello World'\n",
        "var2=\"python programming\"\n",
        "print(var1,\" \",var2)"
      ],
      "execution_count": null,
      "outputs": [
        {
          "output_type": "stream",
          "text": [
            "Hello World   python programming\n"
          ],
          "name": "stdout"
        }
      ]
    },
    {
      "cell_type": "code",
      "metadata": {
        "colab": {
          "base_uri": "https://localhost:8080/"
        },
        "id": "XUUoo9_6l1aw",
        "outputId": "a5dc1d9a-6b18-46b5-e484-99b732827f64"
      },
      "source": [
        "var1='Hello World'\n",
        "var2=\"python programming\"\n",
        "print(var1[3])\n",
        "print(var2[1:4])"
      ],
      "execution_count": null,
      "outputs": [
        {
          "output_type": "stream",
          "text": [
            "l\n",
            "yth\n"
          ],
          "name": "stdout"
        }
      ]
    },
    {
      "cell_type": "code",
      "metadata": {
        "colab": {
          "base_uri": "https://localhost:8080/"
        },
        "id": "XmxfKXuOmOnw",
        "outputId": "9441c765-fc21-4709-bb68-dbc177b42219"
      },
      "source": [
        "var1 = 'Prathusha'\n",
        "print (\"Updated String :- \", var1[0:6] + 'Reddy')"
      ],
      "execution_count": null,
      "outputs": [
        {
          "output_type": "stream",
          "text": [
            "Updated String :-  PrathuReddy\n"
          ],
          "name": "stdout"
        }
      ]
    },
    {
      "cell_type": "code",
      "metadata": {
        "colab": {
          "base_uri": "https://localhost:8080/"
        },
        "id": "aMVp0VtLozug",
        "outputId": "1181cb1b-f466-4e68-f5df-2df7882ab22b"
      },
      "source": [
        "str1=input(\"please enter string : \")\n",
        "str2=str1\n",
        "str3=str1[:]\n",
        "str4=str1[1:6]\n",
        "print(\"The Final String : str2 =\",str2)\n",
        "print(\"The final string : str3 ==\",str3)\n",
        "print(\"The Final string : str4 ==\",str4)"
      ],
      "execution_count": null,
      "outputs": [
        {
          "output_type": "stream",
          "text": [
            "please enter string : prathyusha reddy\n",
            "The Final String : str2 = prathyusha reddy\n",
            "The final string : str3 == prathyusha reddy\n",
            "The Final string : str4 == rathy\n"
          ],
          "name": "stdout"
        }
      ]
    },
    {
      "cell_type": "code",
      "metadata": {
        "colab": {
          "base_uri": "https://localhost:8080/"
        },
        "id": "zVBerP-ptNgG",
        "outputId": "76691d34-8b0a-455c-f7a6-abcb32826c6a"
      },
      "source": [
        "#python string capitalize() method returns a copy of the string with only its first character capitalized. \n",
        "str=\"hey..this is prathyusha..!\"\n",
        "print(\"str.capitalize() : \",str.capitalize())"
      ],
      "execution_count": null,
      "outputs": [
        {
          "output_type": "stream",
          "text": [
            "str.capitalize() :  Hey..this is prathyusha..!\n"
          ],
          "name": "stdout"
        }
      ]
    },
    {
      "cell_type": "code",
      "metadata": {
        "colab": {
          "base_uri": "https://localhost:8080/"
        },
        "id": "5EU4LJDbLAea",
        "outputId": "2a0c224e-c7a3-432b-cc67-47f8fac6a220"
      },
      "source": [
        "str=\"hey..this is prathyusha..!\"\n",
        "print (\"str.center(40,'a') : \",str.center(40,'*'))"
      ],
      "execution_count": null,
      "outputs": [
        {
          "output_type": "stream",
          "text": [
            "str.center(40,'a') :  *******hey..this is prathyusha..!*******\n"
          ],
          "name": "stdout"
        }
      ]
    },
    {
      "cell_type": "code",
      "metadata": {
        "colab": {
          "base_uri": "https://localhost:8080/"
        },
        "id": "53QYaGekLqeb",
        "outputId": "e7d0dcea-6762-49a6-8fc0-2b4eb43d0e72"
      },
      "source": [
        "str=\"hey..this is prathyusha..!\";\n",
        "sub=\"i\";\n",
        "print(\"str.count(sub,4,40) : \",str.count(sub,4,40))\n",
        "sub=\"usha\";\n",
        "print(\"str.count(sub) : \",str.count(sub))"
      ],
      "execution_count": null,
      "outputs": [
        {
          "output_type": "stream",
          "text": [
            "str.count(sub,4,40) :  2\n",
            "str.count(sub) :  1\n"
          ],
          "name": "stdout"
        }
      ]
    },
    {
      "cell_type": "code",
      "metadata": {
        "colab": {
          "base_uri": "https://localhost:8080/"
        },
        "id": "5eyovoq8NDz3",
        "outputId": "3568b5da-1f56-4431-e84d-569f33c06b95"
      },
      "source": [
        "#find() determines if string str occurs in string, or in a substring of string if starting index beg and ending index end are given.\n",
        "\n",
        "#str.find(str, beg=0, end=len(string))\n",
        "str1=\"hey..this is prathyusha..!\"\n",
        "str2=\"is\"\n",
        "print(str1.find(str2))\n",
        "print(str1.find(str2,10))\n",
        "print(str1.find(str2,40))\n"
      ],
      "execution_count": null,
      "outputs": [
        {
          "output_type": "stream",
          "text": [
            "7\n",
            "10\n",
            "-1\n"
          ],
          "name": "stdout"
        }
      ]
    },
    {
      "cell_type": "code",
      "metadata": {
        "colab": {
          "base_uri": "https://localhost:8080/"
        },
        "id": "yPONdmXoP1gW",
        "outputId": "403eb50e-f1bf-47a7-ecec-291ecdc4c0e9"
      },
      "source": [
        "str1=\"hey..this is prathyusha..!\"\n",
        "str2=\"is\"\n",
        "print(str1.index(str2))\n",
        "print(str1.index(str2,10,32))"
      ],
      "execution_count": null,
      "outputs": [
        {
          "output_type": "stream",
          "text": [
            "7\n",
            "10\n"
          ],
          "name": "stdout"
        }
      ]
    },
    {
      "cell_type": "code",
      "metadata": {
        "colab": {
          "base_uri": "https://localhost:8080/"
        },
        "id": "g1SVn2beNi6X",
        "outputId": "5424067a-f0ff-40f5-cb72-f08e51512579"
      },
      "source": [
        "#isalnum() checks whether the string consists of alphanumeric characters.\n",
        "\n",
        "str=\"prathyusha2001\"\n",
        "print(str.isalnum())\n",
        "str=\"prathyusha reddy\"\n",
        "print(str.isalnum())"
      ],
      "execution_count": null,
      "outputs": [
        {
          "output_type": "stream",
          "text": [
            "True\n",
            "False\n"
          ],
          "name": "stdout"
        }
      ]
    },
    {
      "cell_type": "code",
      "metadata": {
        "id": "vZcgFCt4OHT0",
        "colab": {
          "base_uri": "https://localhost:8080/"
        },
        "outputId": "4321c7fb-71a4-41fb-8beb-808a3c4f25fb"
      },
      "source": [
        "str=\"prathu\"\n",
        "print(str.isalpha())\n",
        "str=\"prathu01\"\n",
        "print(str.isalpha())"
      ],
      "execution_count": null,
      "outputs": [
        {
          "output_type": "stream",
          "text": [
            "True\n",
            "False\n"
          ],
          "name": "stdout"
        }
      ]
    },
    {
      "cell_type": "code",
      "metadata": {
        "colab": {
          "base_uri": "https://localhost:8080/"
        },
        "id": "2ffRR-Zt6GUZ",
        "outputId": "c530bf7d-5813-498a-885a-04ab7e451876"
      },
      "source": [
        "str=\"12345\"\n",
        "print(str.isdigit())\n",
        "str=\"prathu01\"\n",
        "print(str.isdigit())"
      ],
      "execution_count": null,
      "outputs": [
        {
          "output_type": "stream",
          "text": [
            "True\n",
            "False\n"
          ],
          "name": "stdout"
        }
      ]
    },
    {
      "cell_type": "code",
      "metadata": {
        "id": "SZQV5Ytd6mx3",
        "colab": {
          "base_uri": "https://localhost:8080/"
        },
        "outputId": "c3921587-8465-471f-90fb-f7ca24fe3cdb"
      },
      "source": [
        "str=\"Prathu\"\n",
        "print(str.islower())\n",
        "str=\"prathu\"\n",
        "print(str.islower())"
      ],
      "execution_count": null,
      "outputs": [
        {
          "output_type": "stream",
          "text": [
            "False\n",
            "True\n"
          ],
          "name": "stdout"
        }
      ]
    },
    {
      "cell_type": "code",
      "metadata": {
        "colab": {
          "base_uri": "https://localhost:8080/"
        },
        "id": "A6tUCKWd8crh",
        "outputId": "95c53a1c-790e-4f91-c54e-af2ef58bc4f9"
      },
      "source": [
        "str=\"prathu2001\"\n",
        "print(str.isnumeric())\n",
        "str=\"2001\"\n",
        "print(str.isnumeric())"
      ],
      "execution_count": null,
      "outputs": [
        {
          "output_type": "stream",
          "text": [
            "False\n",
            "True\n"
          ],
          "name": "stdout"
        }
      ]
    },
    {
      "cell_type": "code",
      "metadata": {
        "colab": {
          "base_uri": "https://localhost:8080/"
        },
        "id": "OtEMfqid8oC-",
        "outputId": "8f9d0dec-c833-4d0e-89eb-54715c967da7"
      },
      "source": [
        "str=\" \"\n",
        "print(str.isspace())\n",
        "str=\"prathu reddy\"\n",
        "print(str.isspace())"
      ],
      "execution_count": null,
      "outputs": [
        {
          "output_type": "stream",
          "text": [
            "True\n",
            "False\n"
          ],
          "name": "stdout"
        }
      ]
    },
    {
      "cell_type": "code",
      "metadata": {
        "colab": {
          "base_uri": "https://localhost:8080/"
        },
        "id": "WkNMSL7Z8_Fz",
        "outputId": "4b8d2835-3902-4cf6-e33b-dc2e2c964abf"
      },
      "source": [
        "str=\"Hey This Is Prathyusha\"\n",
        "print(str.istitle())\n",
        "str=\"Hey this is Prathyusha\"\n",
        "print(str.istitle())"
      ],
      "execution_count": null,
      "outputs": [
        {
          "output_type": "stream",
          "text": [
            "True\n",
            "False\n"
          ],
          "name": "stdout"
        }
      ]
    },
    {
      "cell_type": "code",
      "metadata": {
        "colab": {
          "base_uri": "https://localhost:8080/"
        },
        "id": "97iUANw7-f9g",
        "outputId": "1caa2922-c1d3-4290-98f1-b76988fac53e"
      },
      "source": [
        "str=\"PRATHYUSHA\"\n",
        "print(str.isupper())\n",
        "str=\"Prathyusha\"\n",
        "print(str.isupper())"
      ],
      "execution_count": null,
      "outputs": [
        {
          "output_type": "stream",
          "text": [
            "True\n",
            "False\n"
          ],
          "name": "stdout"
        }
      ]
    },
    {
      "cell_type": "code",
      "metadata": {
        "colab": {
          "base_uri": "https://localhost:8080/"
        },
        "id": "9qq7wOTh-sbf",
        "outputId": "8ab0f3ee-5a40-4edd-afdd-efc7fc1e73d3"
      },
      "source": [
        "s=\"* *\"\n",
        "seq=(\"abc\",\"prathu\",\"reddy\")\n",
        "print(s.join(seq))"
      ],
      "execution_count": null,
      "outputs": [
        {
          "output_type": "stream",
          "text": [
            "abc* *prathu* *reddy\n"
          ],
          "name": "stdout"
        }
      ]
    },
    {
      "cell_type": "code",
      "metadata": {
        "colab": {
          "base_uri": "https://localhost:8080/"
        },
        "id": "-292on_U_Vr8",
        "outputId": "bf03aae8-473f-4aa6-a92f-9f8efbf7fa8b"
      },
      "source": [
        "str=\"prathyusha reddy\"\n",
        "print(len(str))"
      ],
      "execution_count": null,
      "outputs": [
        {
          "output_type": "stream",
          "text": [
            "16\n"
          ],
          "name": "stdout"
        }
      ]
    },
    {
      "cell_type": "code",
      "metadata": {
        "colab": {
          "base_uri": "https://localhost:8080/"
        },
        "id": "865Cmg7x_sjS",
        "outputId": "f6e412fe-08ac-4d11-db8e-8544a7e7679c"
      },
      "source": [
        "#lstrip() returns a copy of the string in which all chars have been stripped from the beginning of the string (default whitespace characters)\n",
        "str=\"   prathyusha   \"\n",
        "print(str.lstrip())\n",
        "str=\"777prathu999\"\n",
        "print(str.rstrip('9'))\n",
        "str=\"777prathu999\"\n",
        "print(str.lstrip('7'))"
      ],
      "execution_count": null,
      "outputs": [
        {
          "output_type": "stream",
          "text": [
            "prathyusha   \n",
            "777prathu\n",
            "prathu999\n"
          ],
          "name": "stdout"
        }
      ]
    },
    {
      "cell_type": "code",
      "metadata": {
        "colab": {
          "base_uri": "https://localhost:8080/"
        },
        "id": "3FynG_XvAj-_",
        "outputId": "69561e56-a90d-4a45-a8e5-40ac0ef5f9ea"
      },
      "source": [
        "str=\"PRATHYUSHA\"\n",
        "print(str.lower())"
      ],
      "execution_count": null,
      "outputs": [
        {
          "output_type": "stream",
          "text": [
            "prathyusha\n"
          ],
          "name": "stdout"
        }
      ]
    },
    {
      "cell_type": "code",
      "metadata": {
        "colab": {
          "base_uri": "https://localhost:8080/"
        },
        "id": "7Bnrn2u0BCK9",
        "outputId": "3c77d9f1-bc00-4dd2-af63-916052103699"
      },
      "source": [
        "str=\"prathyushareddy\"\n",
        "print(\"max character : \",max(str))"
      ],
      "execution_count": null,
      "outputs": [
        {
          "output_type": "stream",
          "text": [
            "max character :  y\n"
          ],
          "name": "stdout"
        }
      ]
    },
    {
      "cell_type": "code",
      "metadata": {
        "colab": {
          "base_uri": "https://localhost:8080/"
        },
        "id": "CXI2Qq8yB8xf",
        "outputId": "81d9f3d3-d11a-4312-adb9-6ebd539c90d8"
      },
      "source": [
        "str=\"prathyusha\"\n",
        "print(\"min character : \",min(str))"
      ],
      "execution_count": null,
      "outputs": [
        {
          "output_type": "stream",
          "text": [
            "min character :  a\n"
          ],
          "name": "stdout"
        }
      ]
    },
    {
      "cell_type": "code",
      "metadata": {
        "colab": {
          "base_uri": "https://localhost:8080/"
        },
        "id": "6yzcrxr5CGNt",
        "outputId": "025bf2f1-5022-4226-d08e-029ea7d6edb8"
      },
      "source": [
        "str=\"this is prathyusha\"\n",
        "print(str.replace(\"this is\",\"I am\"))\n",
        "print(str.replace(\"prathyusha\",\"prathu\"))"
      ],
      "execution_count": null,
      "outputs": [
        {
          "output_type": "stream",
          "text": [
            "I am prathyusha\n",
            "this is prathu\n"
          ],
          "name": "stdout"
        }
      ]
    },
    {
      "cell_type": "code",
      "metadata": {
        "colab": {
          "base_uri": "https://localhost:8080/"
        },
        "id": "7-WoEzGoEgfl",
        "outputId": "dcd2802c-2ca3-49d6-9aa9-43596cfcc3b1"
      },
      "source": [
        "str=\"I am Prathyusha\"\n",
        "print(str.startswith('I'))\n",
        "print(str.startswith('am',2,4))\n",
        "print(str.startswith('pra',6,9))"
      ],
      "execution_count": null,
      "outputs": [
        {
          "output_type": "stream",
          "text": [
            "True\n",
            "True\n",
            "False\n"
          ],
          "name": "stdout"
        }
      ]
    },
    {
      "cell_type": "code",
      "metadata": {
        "colab": {
          "base_uri": "https://localhost:8080/"
        },
        "id": "gXKPWpozFgad",
        "outputId": "7fe2b0ba-7aac-4f5e-9ac2-ef57e82c1b0f"
      },
      "source": [
        "str=\"I am PRATHYUSHA\"\n",
        "print(str.swapcase())\n",
        "str=\"I AM PRATHYUSHA\"\n",
        "print(str.swapcase())"
      ],
      "execution_count": null,
      "outputs": [
        {
          "output_type": "stream",
          "text": [
            "i AM prathyusha\n",
            "i am prathyusha\n"
          ],
          "name": "stdout"
        }
      ]
    },
    {
      "cell_type": "code",
      "metadata": {
        "colab": {
          "base_uri": "https://localhost:8080/"
        },
        "id": "DZCwoOVoFCAz",
        "outputId": "c10c75e9-836a-48c6-f272-703abc520f4b"
      },
      "source": [
        "str=\"i am prathyusha\"\n",
        "print(str.upper())"
      ],
      "execution_count": null,
      "outputs": [
        {
          "output_type": "stream",
          "text": [
            "I AM PRATHYUSHA\n"
          ],
          "name": "stdout"
        }
      ]
    }
  ]
}
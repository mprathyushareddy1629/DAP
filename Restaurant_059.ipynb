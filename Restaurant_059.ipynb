{
  "nbformat": 4,
  "nbformat_minor": 0,
  "metadata": {
    "colab": {
      "name": "Restaurant_059.ipynb",
      "provenance": [],
      "collapsed_sections": [],
      "authorship_tag": "ABX9TyOgirvOIBGsXQrHif1S+mZb",
      "include_colab_link": true
    },
    "kernelspec": {
      "name": "python3",
      "display_name": "Python 3"
    },
    "language_info": {
      "name": "python"
    }
  },
  "cells": [
    {
      "cell_type": "markdown",
      "metadata": {
        "id": "view-in-github",
        "colab_type": "text"
      },
      "source": [
        "<a href=\"https://colab.research.google.com/github/mprathyushareddy1629/DAP/blob/main/Restaurant_059.ipynb\" target=\"_parent\"><img src=\"https://colab.research.google.com/assets/colab-badge.svg\" alt=\"Open In Colab\"/></a>"
      ]
    },
    {
      "cell_type": "code",
      "metadata": {
        "colab": {
          "base_uri": "https://localhost:8080/"
        },
        "id": "ebNv5j2Cp-HU",
        "outputId": "4c513216-f21f-43f3-dbcb-2a795aae38a7"
      },
      "source": [
        "def login(name,pswd):\n",
        "  print(\"Username:\",name)\n",
        "  print(\"Password\",pswd)\n",
        "  print()\n",
        "  return;\n",
        "\n",
        "def veg():\n",
        "  print(\"Welcome to veg restaurant\")\n",
        "  menu=['1. Dosa - Rs.30','2. idly - Rs.25','3. puri - Rs.40','4. chapathi - Rs.35','5. parota - Rs.45']\n",
        "  print(\"*********MAIN MENU***********\")\n",
        "  for i in range(0, len(menu)):\n",
        "    print(menu[i])\n",
        "  choice=int(input(\"Enter the number next to dish you want :\"))\n",
        "  if choice==1:\n",
        "    print(\"*****Order confirmed : Dosa*****\")\n",
        "    print(\"Payable amount : Rs.30+Rs.12 GST  Total=Rs.42\")\n",
        "  elif choice==2:\n",
        "    print(\"*****Order confirmed : idly - Rs.25*****\")\n",
        "    print(\"Payable amount : Rs.25+Rs.12 GST  Total=Rs.37\")\n",
        "  elif choice==3:\n",
        "    print(\"******Order confirmed : puri - Rs.40*****\")\n",
        "    print(\"Payable amount : Rs.40+Rs.12 GST  Total=Rs.52\")\n",
        "  elif choice==4:\n",
        "    print(\"******Order confirmed : chapathi - Rs.35*****\")\n",
        "    print(\"Payable amount : Rs.35+Rs.12 GST  Total=Rs.47\")\n",
        "  elif choice==5:\n",
        "    print(\"*****Order confirmed : parota - Rs.45*****\")\n",
        "    print(\"Payable amount : Rs.45+Rs.12 GST  Total=Rs.57\")\n",
        "  return;\n",
        "def nonveg():\n",
        "  print(\"Welcome to non-veg restaurant\")\n",
        "  menu=[\"1. chicken biryani - Rs.120\",'2. mutton biryani - Rs.200','3. fish curry - Rs.150','4. prawns biryani - Rs.210','5. chicken curry - Rs.300']\n",
        "  print(\"*********MAIN MENU***********\")\n",
        "  for i in range(0, len(menu)):\n",
        "    print(menu[i])\n",
        "  choice=int(input(\"Enter the number next to dish you want :\"))\n",
        "  if choice==1:\n",
        "    print(\"******Order confirmed : chicken biryani*****\")\n",
        "    print(\"Payable amount : Rs.120+Rs.12 GST  Total=Rs.132\")\n",
        "  elif choice==2:\n",
        "    print(\"*****Order confirmed : mutton biryani*****\")\n",
        "    print(\"Payable amount : Rs.200+Rs.12 GST  Total=Rs.212\")\n",
        "  elif choice==3:\n",
        "    print(\"*****Order confirmed : fish curry*****\")\n",
        "    print(\"Payable amount : Rs.150+Rs.12 GST  Total=Rs.162\")\n",
        "  elif choice==4:\n",
        "    print(\"******Order confirmed : prawns biryani******\")\n",
        "    print(\"Payable amount : Rs.210+Rs.12 GST  Total=Rs.222\")\n",
        "  elif choice==5:\n",
        "    print(\"******Order confirmed : chicken curry******\")\n",
        "    print(\"Payable amount : Rs.300+Rs.12 GST  Total=Rs.312\")\n",
        "  return;\n",
        "user=input(\"enter your username:\")\n",
        "pw=input(\"enter your password:\")\n",
        "login(user,pw)\n",
        "\n",
        "choice=int(input(\"looking for veg or non-veg restuarants,press 1 for veg amnd 2 for non veg\"))\n",
        "if choice==1:\n",
        "  veg()\n",
        "elif choice==2:\n",
        "  nonveg()\n",
        "else:\n",
        "  print(\"invalid\")\n",
        "\n",
        "\n",
        "print(\"*****THANK YOU !!! VISIT AGAIN!!!*****\")\n"
      ],
      "execution_count": null,
      "outputs": [
        {
          "output_type": "stream",
          "text": [
            "enter your username:Prathu\n",
            "enter your password:1243\n",
            "Username: Prathu\n",
            "Password 1243\n",
            "\n",
            "looking for veg or non-veg restuarants,press 1 for veg amnd 2 for non veg2\n",
            "Welcome to non-veg restaurant\n",
            "*********MAIN MENU***********\n",
            "1. chicken biryani - Rs.120\n",
            "2. mutton biryani - Rs.200\n",
            "3. fish curry - Rs.150\n",
            "4. prawns biryani - Rs.210\n",
            "5. chicken curry - Rs.300\n",
            "Enter the number next to dish you want :3\n",
            "*****Order confirmed : fish curry*****\n",
            "Payable amount : Rs.150+Rs.12 GST  Total=Rs.162\n",
            "*****THANK YOU !!! VISIT AGAIN!!!*****\n"
          ],
          "name": "stdout"
        }
      ]
    },
    {
      "cell_type": "code",
      "metadata": {
        "colab": {
          "base_uri": "https://localhost:8080/",
          "height": 128
        },
        "id": "1efSKultyg4E",
        "outputId": "8c1c2afe-31dd-48f2-bdb8-2d7dfb4afd28"
      },
      "source": [
        "def login(name,pswd):\n",
        "  print(\"Username:\",name)\n",
        "  print(\"Password\",pswd)\n",
        "  print()\n",
        "  return;\n",
        "foo=['1.Pizza','2.crispy veg momos','3.Biryani']\n",
        "pri=[120,100,200]\n",
        "print(*foo,pri,sep=\"\\n\")\n",
        "repeat='y'\n",
        "while(repeat!='n'):\n",
        "  choice=int(input(\" 1. Pizza : 120/- 2. crispy momos : 100/- 3. Biryani : 200/- Enter your choice \"))\n",
        "  loc=input(\"\\nEnter your address \")\n",
        "  print(\"\\nYour order for\",foo[choice-1],\"has been placed on\",\"and will get delivered\",loc,\"\\nYour Bill for the order is \",pri[choice-1])\n",
        "  repeat=input(\"Do you wish to order again? (y/n)\\n\")"
      ],
      "execution_count": null,
      "outputs": [
        {
          "output_type": "error",
          "ename": "SyntaxError",
          "evalue": "ignored",
          "traceback": [
            "\u001b[0;36m  File \u001b[0;32m\"<ipython-input-8-ee6d820d5e99>\"\u001b[0;36m, line \u001b[0;32m11\u001b[0m\n\u001b[0;31m    choice=int(input(\" 1. Pizza : 120/- 2. crispy momos : 100/- 3. Biryani : 200/- Enter your choice \"))\u001b[0m\n\u001b[0m         ^\u001b[0m\n\u001b[0;31mSyntaxError\u001b[0m\u001b[0;31m:\u001b[0m invalid character in identifier\n"
          ]
        }
      ]
    },
    {
      "cell_type": "code",
      "metadata": {
        "id": "m8c914mvvDVq"
      },
      "source": [
        ""
      ],
      "execution_count": null,
      "outputs": []
    }
  ]
}
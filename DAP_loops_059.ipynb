{
  "nbformat": 4,
  "nbformat_minor": 0,
  "metadata": {
    "colab": {
      "name": "Prathyusha_loops.ipynb",
      "provenance": [],
      "collapsed_sections": [],
      "authorship_tag": "ABX9TyNWGCnJtAAzLNx8rqfvqHuA",
      "include_colab_link": true
    },
    "kernelspec": {
      "name": "python3",
      "display_name": "Python 3"
    },
    "language_info": {
      "name": "python"
    }
  },
  "cells": [
    {
      "cell_type": "markdown",
      "metadata": {
        "id": "view-in-github",
        "colab_type": "text"
      },
      "source": [
        "<a href=\"https://colab.research.google.com/github/mprathyushareddy1629/DAP/blob/main/DAP_loops_059.ipynb\" target=\"_parent\"><img src=\"https://colab.research.google.com/assets/colab-badge.svg\" alt=\"Open In Colab\"/></a>"
      ]
    },
    {
      "cell_type": "code",
      "metadata": {
        "colab": {
          "base_uri": "https://localhost:8080/"
        },
        "id": "KPz-tN018JCU",
        "outputId": "4728e46e-30b3-4b8d-f89c-2cf9b8c0cf71"
      },
      "source": [
        "str=\"python\"\n",
        "for i in str:\n",
        "  print(i)"
      ],
      "execution_count": null,
      "outputs": [
        {
          "output_type": "stream",
          "text": [
            "p\n",
            "y\n",
            "t\n",
            "h\n",
            "o\n",
            "n\n"
          ],
          "name": "stdout"
        }
      ]
    },
    {
      "cell_type": "code",
      "metadata": {
        "colab": {
          "base_uri": "https://localhost:8080/"
        },
        "id": "WgDASGP48OTg",
        "outputId": "45a3b53c-09a0-4693-aade-fdfea34435ec"
      },
      "source": [
        "list=[1,2,3,4,5,6,7,8,9,10]\n",
        "n=6\n",
        "for i in list:\n",
        "  c=n*i\n",
        "  print(n,\" *\",i,\"=\",c)"
      ],
      "execution_count": null,
      "outputs": [
        {
          "output_type": "stream",
          "text": [
            "6  * 1 = 6\n",
            "6  * 2 = 12\n",
            "6  * 3 = 18\n",
            "6  * 4 = 24\n",
            "6  * 5 = 30\n",
            "6  * 6 = 36\n",
            "6  * 7 = 42\n",
            "6  * 8 = 48\n",
            "6  * 9 = 54\n",
            "6  * 10 = 60\n"
          ],
          "name": "stdout"
        }
      ]
    },
    {
      "cell_type": "code",
      "metadata": {
        "colab": {
          "base_uri": "https://localhost:8080/"
        },
        "id": "UFyBrSxt8R71",
        "outputId": "96c18eba-c9d9-4d5d-d4ce-f639833f3a47"
      },
      "source": [
        "list=[10,20,30,10,20]\n",
        "sum=0\n",
        "for i in list:\n",
        "  sum=sum+i\n",
        "print(sum)"
      ],
      "execution_count": null,
      "outputs": [
        {
          "output_type": "stream",
          "text": [
            "90\n"
          ],
          "name": "stdout"
        }
      ]
    },
    {
      "cell_type": "code",
      "metadata": {
        "colab": {
          "base_uri": "https://localhost:8080/"
        },
        "id": "XG-1eijn8YgT",
        "outputId": "b8df0380-8bd2-4f48-a7c2-05ed7bf2004a"
      },
      "source": [
        "for i in range(10):\n",
        "  print(i,end=' ')"
      ],
      "execution_count": null,
      "outputs": [
        {
          "output_type": "stream",
          "text": [
            "0 1 2 3 4 5 6 7 8 9 "
          ],
          "name": "stdout"
        }
      ]
    },
    {
      "cell_type": "code",
      "metadata": {
        "colab": {
          "base_uri": "https://localhost:8080/"
        },
        "id": "Jn3Uwey98q8P",
        "outputId": "08231203-6771-4da4-8d8b-6e6b1ea46f22"
      },
      "source": [
        "n=int(input(\"Enter the number \"))\n",
        "for i in range(1,11):\n",
        "  c=n*i\n",
        "  print(n, \"*\", i, \"= \",c)"
      ],
      "execution_count": null,
      "outputs": [
        {
          "output_type": "stream",
          "text": [
            "Enter the number 4\n",
            "4 * 1 =  4\n",
            "4 * 2 =  8\n",
            "4 * 3 =  12\n",
            "4 * 4 =  16\n",
            "4 * 5 =  20\n",
            "4 * 6 =  24\n",
            "4 * 7 =  28\n",
            "4 * 8 =  32\n",
            "4 * 9 =  36\n",
            "4 * 10 =  40\n"
          ],
          "name": "stdout"
        }
      ]
    },
    {
      "cell_type": "code",
      "metadata": {
        "colab": {
          "base_uri": "https://localhost:8080/"
        },
        "id": "WcOfEQbh8tbK",
        "outputId": "df6b31b1-3455-43f7-e351-0f2eedecfb95"
      },
      "source": [
        "n=int(input(\"enter the number \"))\n",
        "for i in range(2,n,3):\n",
        "  print(i)"
      ],
      "execution_count": null,
      "outputs": [
        {
          "output_type": "stream",
          "text": [
            "enter the number 10\n",
            "2\n",
            "5\n",
            "8\n"
          ],
          "name": "stdout"
        }
      ]
    },
    {
      "cell_type": "code",
      "metadata": {
        "colab": {
          "base_uri": "https://localhost:8080/"
        },
        "id": "LQ-hMpEv8z2n",
        "outputId": "c5e0d593-8dfa-4600-bc12-1b7c658b293e"
      },
      "source": [
        "list=[\"prathu\",\"usha\",\"reddy\"]\n",
        "for i in range(len(list)):\n",
        "  print(\"hello\",list[i])"
      ],
      "execution_count": null,
      "outputs": [
        {
          "output_type": "stream",
          "text": [
            "hello prathu\n",
            "hello usha\n",
            "hello reddy\n"
          ],
          "name": "stdout"
        }
      ]
    },
    {
      "cell_type": "code",
      "metadata": {
        "colab": {
          "base_uri": "https://localhost:8080/"
        },
        "id": "bKHLsF-L839Z",
        "outputId": "0567abe9-f247-4d63-cef6-489a8241df9f"
      },
      "source": [
        "for i in range(0,7):\n",
        "  print(i)\n",
        "else:\n",
        "  print(\"bye\")"
      ],
      "execution_count": null,
      "outputs": [
        {
          "output_type": "stream",
          "text": [
            "0\n",
            "1\n",
            "2\n",
            "3\n",
            "4\n",
            "5\n",
            "6\n",
            "bye\n"
          ],
          "name": "stdout"
        }
      ]
    },
    {
      "cell_type": "code",
      "metadata": {
        "colab": {
          "base_uri": "https://localhost:8080/"
        },
        "id": "OTwQ2BAL8_Fb",
        "outputId": "5c130959-6460-41f5-8d27-63c288e73e5d"
      },
      "source": [
        "for i in range(0,7):\n",
        "  print(i)\n",
        "  print(\"bye\")\n",
        "  continue\n",
        "  print(\"hello\")\n",
        "else:\n",
        "  print(\"for loop is exhausted\")\n",
        "print(\"out of the loop\")"
      ],
      "execution_count": null,
      "outputs": [
        {
          "output_type": "stream",
          "text": [
            "0\n",
            "bye\n",
            "1\n",
            "bye\n",
            "2\n",
            "bye\n",
            "3\n",
            "bye\n",
            "4\n",
            "bye\n",
            "5\n",
            "bye\n",
            "6\n",
            "bye\n",
            "for loop is exhausted\n",
            "out of the loop\n"
          ],
          "name": "stdout"
        }
      ]
    },
    {
      "cell_type": "code",
      "metadata": {
        "colab": {
          "base_uri": "https://localhost:8080/"
        },
        "id": "n-IsjbOY9ckX",
        "outputId": "ee68b7c0-dd28-42ee-90d7-34b74fc334d9"
      },
      "source": [
        "#prints all letters except 'a' and 'u'\n",
        "i=0\n",
        "str1='prathyusha'\n",
        "print(str1)\n",
        "while i<len(str1):\n",
        "  print(\"entered loop before if statement\")\n",
        "  if str1[i] == 'a' or str1[i] == 'u':   \n",
        "    print('entered if statement')\n",
        "    i += 1  \n",
        "    print('i incremented')\n",
        "    continue  \n",
        "    print('after continue')\n",
        "  print('Current Letter :', str1[i])   \n",
        "  i += 1 \n",
        "  print('going back to starting of while loop')"
      ],
      "execution_count": null,
      "outputs": [
        {
          "output_type": "stream",
          "text": [
            "prathyusha\n",
            "entered loop before if statement\n",
            "Current Letter : p\n",
            "going back to starting of while loop\n",
            "entered loop before if statement\n",
            "Current Letter : r\n",
            "going back to starting of while loop\n",
            "entered loop before if statement\n",
            "entered if statement\n",
            "i incremented\n",
            "entered loop before if statement\n",
            "Current Letter : t\n",
            "going back to starting of while loop\n",
            "entered loop before if statement\n",
            "Current Letter : h\n",
            "going back to starting of while loop\n",
            "entered loop before if statement\n",
            "Current Letter : y\n",
            "going back to starting of while loop\n",
            "entered loop before if statement\n",
            "entered if statement\n",
            "i incremented\n",
            "entered loop before if statement\n",
            "Current Letter : s\n",
            "going back to starting of while loop\n",
            "entered loop before if statement\n",
            "Current Letter : h\n",
            "going back to starting of while loop\n",
            "entered loop before if statement\n",
            "entered if statement\n",
            "i incremented\n"
          ],
          "name": "stdout"
        }
      ]
    },
    {
      "cell_type": "code",
      "metadata": {
        "colab": {
          "base_uri": "https://localhost:8080/"
        },
        "id": "IB3e7vAe9nYh",
        "outputId": "89e141e1-5c14-4c62-e616-e6dc16252c36"
      },
      "source": [
        "i=0\n",
        "str1='prathyusha'\n",
        "while i<len(str1):\n",
        "  if(str1[i]=='s'):\n",
        "    i+=1\n",
        "    break\n",
        "  print(\"letter : \",str1[i])\n",
        "  i+=1\n"
      ],
      "execution_count": null,
      "outputs": [
        {
          "output_type": "stream",
          "text": [
            "letter :  p\n",
            "letter :  r\n",
            "letter :  a\n",
            "letter :  t\n",
            "letter :  h\n",
            "letter :  y\n",
            "letter :  u\n"
          ],
          "name": "stdout"
        }
      ]
    },
    {
      "cell_type": "code",
      "metadata": {
        "colab": {
          "base_uri": "https://localhost:8080/"
        },
        "id": "fUMcqLMT9sFs",
        "outputId": "420b34df-4deb-46a4-ab9f-35f1b7ff1d3c"
      },
      "source": [
        "str2='prathyusha'\n",
        "i=0\n",
        "while i<len(str2):\n",
        "  i=i+1\n",
        "  pass\n",
        "print(\"value of i : \",i)"
      ],
      "execution_count": null,
      "outputs": [
        {
          "output_type": "stream",
          "text": [
            "value of i :  10\n"
          ],
          "name": "stdout"
        }
      ]
    },
    {
      "cell_type": "code",
      "metadata": {
        "colab": {
          "base_uri": "https://localhost:8080/"
        },
        "id": "1sNxiRkC91IM",
        "outputId": "6c702e65-22a3-4465-fbde-c3a283b9939d"
      },
      "source": [
        "i=1\n",
        "while (i<=10):\n",
        "  print(i)\n",
        "  i=i+1"
      ],
      "execution_count": null,
      "outputs": [
        {
          "output_type": "stream",
          "text": [
            "1\n",
            "2\n",
            "3\n",
            "4\n",
            "5\n",
            "6\n",
            "7\n",
            "8\n",
            "9\n",
            "10\n"
          ],
          "name": "stdout"
        }
      ]
    },
    {
      "cell_type": "code",
      "metadata": {
        "colab": {
          "base_uri": "https://localhost:8080/"
        },
        "id": "Slajy8Qz96zV",
        "outputId": "06732a2f-e3da-4318-9e83-27c4ef65a93f"
      },
      "source": [
        "i=1\n",
        "number=int(input(\"enter a number\"))\n",
        "while(i<=10):\n",
        "  print(number, \"X\",i, \"=\",number*i)\n",
        "  i+=1"
      ],
      "execution_count": null,
      "outputs": [
        {
          "output_type": "stream",
          "text": [
            "enter a number5\n",
            "5 X 1 = 5\n",
            "5 X 2 = 10\n",
            "5 X 3 = 15\n",
            "5 X 4 = 20\n",
            "5 X 5 = 25\n",
            "5 X 6 = 30\n",
            "5 X 7 = 35\n",
            "5 X 8 = 40\n",
            "5 X 9 = 45\n",
            "5 X 10 = 50\n"
          ],
          "name": "stdout"
        }
      ]
    },
    {
      "cell_type": "code",
      "metadata": {
        "colab": {
          "base_uri": "https://localhost:8080/"
        },
        "id": "Ehk16r8z-ZeO",
        "outputId": "50c62883-ef6b-441e-ed76-777bef2560ad"
      },
      "source": [
        "i=1   \n",
        "while(i<=5):    \n",
        "    print(i)    \n",
        "    i=i+1    \n",
        "else:  \n",
        "    print(\"The while loop exhausted\")"
      ],
      "execution_count": null,
      "outputs": [
        {
          "output_type": "stream",
          "text": [
            "1\n",
            "2\n",
            "3\n",
            "4\n",
            "5\n",
            "The while loop exhausted\n"
          ],
          "name": "stdout"
        }
      ]
    },
    {
      "cell_type": "code",
      "metadata": {
        "colab": {
          "base_uri": "https://localhost:8080/"
        },
        "id": "jeR_71F9-u9m",
        "outputId": "06732709-2ea4-43c0-d416-426bd85d704f"
      },
      "source": [
        "i=1    \n",
        "while(i<=5):    \n",
        "    print(i)    \n",
        "    i=i+1    \n",
        "    if(i==3):    \n",
        "        break   \n",
        "else:  \n",
        "    print(\"The while loop exhausted\")\n",
        "print(\"bye bye\")"
      ],
      "execution_count": null,
      "outputs": [
        {
          "output_type": "stream",
          "text": [
            "1\n",
            "2\n",
            "bye bye\n"
          ],
          "name": "stdout"
        }
      ]
    },
    {
      "cell_type": "code",
      "metadata": {
        "colab": {
          "base_uri": "https://localhost:8080/"
        },
        "id": "qFpiAMYb-3tw",
        "outputId": "b837e8bd-c888-4582-c281-911ba1cf76c8"
      },
      "source": [
        "    list =[1,2,3,4]  \n",
        "    i=1;\n",
        "    count = 1;  \n",
        "    for i in list:  \n",
        "        if i == 4:  \n",
        "            print(\"item matched\")  \n",
        "            count = count + 1;  \n",
        "            break  \n",
        "    print(\"found at\",count,\"location\");  "
      ],
      "execution_count": null,
      "outputs": [
        {
          "output_type": "stream",
          "text": [
            "item matched\n",
            "found at 2 location\n"
          ],
          "name": "stdout"
        }
      ]
    },
    {
      "cell_type": "code",
      "metadata": {
        "colab": {
          "base_uri": "https://localhost:8080/"
        },
        "id": "obWJM2Rc_YeN",
        "outputId": "a576cd92-c77f-4528-f346-f344629b9275"
      },
      "source": [
        "    str = \"python\"  \n",
        "    for i in str:  \n",
        "        if i == 'o':  \n",
        "            break  \n",
        "        print(i);  "
      ],
      "execution_count": null,
      "outputs": [
        {
          "output_type": "stream",
          "text": [
            "p\n",
            "y\n",
            "t\n",
            "h\n"
          ],
          "name": "stdout"
        }
      ]
    },
    {
      "cell_type": "code",
      "metadata": {
        "colab": {
          "base_uri": "https://localhost:8080/"
        },
        "id": "tSUO6QHR_bOY",
        "outputId": "68178282-99d9-46d6-8336-f99605f69cd1"
      },
      "source": [
        "    n=2  \n",
        "    while 1:  \n",
        "        i=1;  \n",
        "        while i<=10:  \n",
        "            print(\"%d X %d = %d\"%(n,i,n*i));  \n",
        "            i = i+1;  \n",
        "        choice = int(input(\"Do you want to continue printing the table, press 0 for no?\"))  \n",
        "        if choice == 0:  \n",
        "            break;      \n",
        "        n=n+1 "
      ],
      "execution_count": null,
      "outputs": [
        {
          "output_type": "stream",
          "text": [
            "2 X 1 = 2\n",
            "2 X 2 = 4\n",
            "2 X 3 = 6\n",
            "2 X 4 = 8\n",
            "2 X 5 = 10\n",
            "2 X 6 = 12\n",
            "2 X 7 = 14\n",
            "2 X 8 = 16\n",
            "2 X 9 = 18\n",
            "2 X 10 = 20\n",
            "Do you want to continue printing the table, press 0 for no?0\n"
          ],
          "name": "stdout"
        }
      ]
    },
    {
      "cell_type": "code",
      "metadata": {
        "colab": {
          "base_uri": "https://localhost:8080/"
        },
        "id": "9OOPcycA_jvW",
        "outputId": "ab209b61-a91f-4520-c386-1b509cbbac7b"
      },
      "source": [
        "    i = 0                     \n",
        "    while(i < 10):                \n",
        "       i = i+1  \n",
        "       if(i == 5):  \n",
        "          continue  \n",
        "       print(i) "
      ],
      "execution_count": null,
      "outputs": [
        {
          "output_type": "stream",
          "text": [
            "1\n",
            "2\n",
            "3\n",
            "4\n",
            "6\n",
            "7\n",
            "8\n",
            "9\n",
            "10\n"
          ],
          "name": "stdout"
        }
      ]
    },
    {
      "cell_type": "code",
      "metadata": {
        "colab": {
          "base_uri": "https://localhost:8080/"
        },
        "id": "2yD2hjRsAEp1",
        "outputId": "591ffcf5-4a86-4bfc-be55-97a089151ab2"
      },
      "source": [
        "    list = [1,2,3,4,5]    \n",
        "    flag = 0    \n",
        "    for i in list:    \n",
        "        print(\"Current element:\",i,end=\" \");    \n",
        "        if i==3:    \n",
        "            pass    \n",
        "            print(\"\\nWe are inside pass block\\n\");    \n",
        "            flag = 1    \n",
        "        if flag==1:    \n",
        "            print(\"\\nCame out of pass\\n\");    \n",
        "            flag=0   "
      ],
      "execution_count": null,
      "outputs": [
        {
          "output_type": "stream",
          "text": [
            "Current element: 1 Current element: 2 Current element: 3 \n",
            "We are inside pass block\n",
            "\n",
            "\n",
            "Came out of pass\n",
            "\n",
            "Current element: 4 Current element: 5 "
          ],
          "name": "stdout"
        }
      ]
    },
    {
      "cell_type": "code",
      "metadata": {
        "colab": {
          "base_uri": "https://localhost:8080/"
        },
        "id": "bZCqVOrEAJ45",
        "outputId": "83a3b7b3-935d-41e5-ed84-81a0a448ef82"
      },
      "source": [
        "    for i in [1,2,3,4,5]:   \n",
        "        if(i==4):  \n",
        "            pass  \n",
        "            print(\"This is pass block\",i)  \n",
        "        print(i)  "
      ],
      "execution_count": null,
      "outputs": [
        {
          "output_type": "stream",
          "text": [
            "1\n",
            "2\n",
            "3\n",
            "This is pass block 4\n",
            "4\n",
            "5\n"
          ],
          "name": "stdout"
        }
      ]
    }
  ]
}
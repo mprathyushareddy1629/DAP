{
  "nbformat": 4,
  "nbformat_minor": 0,
  "metadata": {
    "colab": {
      "name": "DA_files_059.ipynb",
      "provenance": [],
      "collapsed_sections": [],
      "authorship_tag": "ABX9TyNrd4VPw4RE2et00t8KO2Xr",
      "include_colab_link": true
    },
    "kernelspec": {
      "name": "python3",
      "display_name": "Python 3"
    },
    "language_info": {
      "name": "python"
    }
  },
  "cells": [
    {
      "cell_type": "markdown",
      "metadata": {
        "id": "view-in-github",
        "colab_type": "text"
      },
      "source": [
        "<a href=\"https://colab.research.google.com/github/mprathyushareddy1629/DAP/blob/main/DA_files_059.ipynb\" target=\"_parent\"><img src=\"https://colab.research.google.com/assets/colab-badge.svg\" alt=\"Open In Colab\"/></a>"
      ]
    },
    {
      "cell_type": "code",
      "metadata": {
        "colab": {
          "base_uri": "https://localhost:8080/"
        },
        "id": "SiSH_PlgB3de",
        "outputId": "08693a37-b3c1-4e90-b3b2-a9d7033b8253"
      },
      "source": [
        "print (\"Python is really a great language,\", \"isn't it?\")"
      ],
      "execution_count": null,
      "outputs": [
        {
          "output_type": "stream",
          "name": "stdout",
          "text": [
            "Python is really a great language, isn't it?\n"
          ]
        }
      ]
    },
    {
      "cell_type": "code",
      "metadata": {
        "colab": {
          "base_uri": "https://localhost:8080/"
        },
        "id": "M1919c5yCDor",
        "outputId": "3852c1fe-5f9d-42c4-b933-1608e7bd9d34"
      },
      "source": [
        "str = input(\"Enter your input: \")\n",
        "print (\"Received input is : \", str)"
      ],
      "execution_count": null,
      "outputs": [
        {
          "output_type": "stream",
          "name": "stdout",
          "text": [
            "Enter your input: prathuu\n",
            "Received input is :  prathuu\n"
          ]
        }
      ]
    },
    {
      "cell_type": "code",
      "metadata": {
        "colab": {
          "base_uri": "https://localhost:8080/"
        },
        "id": "LQLIYqWXCKZh",
        "outputId": "c0279e4c-4df7-4dd3-9813-7239b9a458ef"
      },
      "source": [
        "fo=open(\"cse7sem.txt\",\"wb\")\n",
        "print(\"Name of the file: \",fo.name)\n",
        "fo.close()"
      ],
      "execution_count": null,
      "outputs": [
        {
          "output_type": "stream",
          "name": "stdout",
          "text": [
            "Name of the file:  cse7sem.txt\n"
          ]
        }
      ]
    },
    {
      "cell_type": "code",
      "metadata": {
        "colab": {
          "base_uri": "https://localhost:8080/"
        },
        "id": "MQbh49H4Ca9f",
        "outputId": "a0a715b4-178f-47c0-f586-f3ab9b02dc0d"
      },
      "source": [
        "f=open(\"cse7sem.txt\",\"a\")\n",
        "f.write(\"prathu\")\n",
        "#f.close()\n",
        "\n",
        "#f=open(\"cse7sem1.txt\",\"r\")\n",
        "#print(f.read())"
      ],
      "execution_count": null,
      "outputs": [
        {
          "output_type": "execute_result",
          "data": {
            "text/plain": [
              "6"
            ]
          },
          "metadata": {},
          "execution_count": 10
        }
      ]
    },
    {
      "cell_type": "code",
      "metadata": {
        "colab": {
          "base_uri": "https://localhost:8080/"
        },
        "id": "ZZXpgzvpDU4z",
        "outputId": "671f75f0-65f9-4c57-c479-12e1e7678d3d"
      },
      "source": [
        "fo = open(\"cse7sem.txt\", \"r+\")\n",
        "str = fo.read(10);\n",
        "print (\"Read String is : \", str)\n",
        "fo.close()"
      ],
      "execution_count": null,
      "outputs": [
        {
          "output_type": "stream",
          "name": "stdout",
          "text": [
            "Read String is :  prathuprat\n"
          ]
        }
      ]
    },
    {
      "cell_type": "code",
      "metadata": {
        "colab": {
          "base_uri": "https://localhost:8080/"
        },
        "id": "PuRSxpXqDhIO",
        "outputId": "5afdfc2a-c6b0-4070-e7e5-b0eb47a51605"
      },
      "source": [
        "fo = open(\"cse7sem.txt\", \"wb\")\n",
        "print (\"Name of the file: \", fo.name)\n",
        "print (\"Closed or not : \", fo.closed)\n",
        "print (\"Opening mode : \", fo.mode)"
      ],
      "execution_count": null,
      "outputs": [
        {
          "output_type": "stream",
          "name": "stdout",
          "text": [
            "Name of the file:  cse7sem.txt\n",
            "Closed or not :  False\n",
            "Opening mode :  wb\n"
          ]
        }
      ]
    },
    {
      "cell_type": "code",
      "metadata": {
        "colab": {
          "base_uri": "https://localhost:8080/"
        },
        "id": "oM1o3YUTDq11",
        "outputId": "3a615dc6-cb75-4160-97f9-b80205200a28"
      },
      "source": [
        "fo = open(\"cse7sem.txt\", \"r+\")\n",
        "\n",
        "str = fo.read(10)\n",
        "print (\"Read String is : \", str)\n",
        "\n",
        "# Check current position\n",
        "position = fo.tell()\n",
        "print (\"Current file position : \", position)\n",
        "\n",
        "# Reposition pointer at the beginning once again\n",
        "position = fo.seek(1, 0);\n",
        "str = fo.read(7)\n",
        "print (\"Again read String is : \", str)\n",
        "\n",
        "ptr=fo.seek(0,1)\n",
        "str1=fo.read(3)\n",
        "print(\"my new string= \", str1)\n",
        "\n",
        "# Close opened file\n",
        "fo.close()"
      ],
      "execution_count": null,
      "outputs": [
        {
          "output_type": "stream",
          "name": "stdout",
          "text": [
            "Read String is :  \n",
            "Current file position :  0\n",
            "Again read String is :  \n",
            "my new string=  \n"
          ]
        }
      ]
    },
    {
      "cell_type": "code",
      "metadata": {
        "colab": {
          "base_uri": "https://localhost:8080/",
          "height": 212
        },
        "id": "_MBOoq95D29c",
        "outputId": "e176d974-8f5f-455f-8169-472da1eae8d5"
      },
      "source": [
        "import os\n",
        "\n",
        "# Rename a file from test1.txt to test2.txt\n",
        "os.rename(\"demofile2.txt\", \"test2.txt\" )"
      ],
      "execution_count": null,
      "outputs": [
        {
          "output_type": "error",
          "ename": "FileNotFoundError",
          "evalue": "ignored",
          "traceback": [
            "\u001b[0;31m---------------------------------------------------------------------------\u001b[0m",
            "\u001b[0;31mFileNotFoundError\u001b[0m                         Traceback (most recent call last)",
            "\u001b[0;32m<ipython-input-17-72dbd1b7e390>\u001b[0m in \u001b[0;36m<module>\u001b[0;34m()\u001b[0m\n\u001b[1;32m      2\u001b[0m \u001b[0;34m\u001b[0m\u001b[0m\n\u001b[1;32m      3\u001b[0m \u001b[0;31m# Rename a file from test1.txt to test2.txt\u001b[0m\u001b[0;34m\u001b[0m\u001b[0;34m\u001b[0m\u001b[0;34m\u001b[0m\u001b[0m\n\u001b[0;32m----> 4\u001b[0;31m \u001b[0mos\u001b[0m\u001b[0;34m.\u001b[0m\u001b[0mrename\u001b[0m\u001b[0;34m(\u001b[0m\u001b[0;34m\"demofile2.txt\"\u001b[0m\u001b[0;34m,\u001b[0m \u001b[0;34m\"test2.txt\"\u001b[0m \u001b[0;34m)\u001b[0m\u001b[0;34m\u001b[0m\u001b[0;34m\u001b[0m\u001b[0m\n\u001b[0m",
            "\u001b[0;31mFileNotFoundError\u001b[0m: [Errno 2] No such file or directory: 'demofile2.txt' -> 'test2.txt'"
          ]
        }
      ]
    },
    {
      "cell_type": "code",
      "metadata": {
        "colab": {
          "base_uri": "https://localhost:8080/",
          "height": 195
        },
        "id": "4n1D6_cAD7ve",
        "outputId": "f759b821-c533-4279-ac0c-749137685f75"
      },
      "source": [
        "import os\n",
        "\n",
        "# Delete file test2.txt\n",
        "os.remove(\"text2.txt\")"
      ],
      "execution_count": null,
      "outputs": [
        {
          "output_type": "error",
          "ename": "FileNotFoundError",
          "evalue": "ignored",
          "traceback": [
            "\u001b[0;31m---------------------------------------------------------------------------\u001b[0m",
            "\u001b[0;31mFileNotFoundError\u001b[0m                         Traceback (most recent call last)",
            "\u001b[0;32m<ipython-input-18-165d86c30141>\u001b[0m in \u001b[0;36m<module>\u001b[0;34m()\u001b[0m\n\u001b[1;32m      2\u001b[0m \u001b[0;34m\u001b[0m\u001b[0m\n\u001b[1;32m      3\u001b[0m \u001b[0;31m# Delete file test2.txt\u001b[0m\u001b[0;34m\u001b[0m\u001b[0;34m\u001b[0m\u001b[0;34m\u001b[0m\u001b[0m\n\u001b[0;32m----> 4\u001b[0;31m \u001b[0mos\u001b[0m\u001b[0;34m.\u001b[0m\u001b[0mremove\u001b[0m\u001b[0;34m(\u001b[0m\u001b[0;34m\"text2.txt\"\u001b[0m\u001b[0;34m)\u001b[0m\u001b[0;34m\u001b[0m\u001b[0;34m\u001b[0m\u001b[0m\n\u001b[0m",
            "\u001b[0;31mFileNotFoundError\u001b[0m: [Errno 2] No such file or directory: 'text2.txt'"
          ]
        }
      ]
    },
    {
      "cell_type": "code",
      "metadata": {
        "id": "rZKWJEGVEBwG"
      },
      "source": [
        "import os\n",
        "\n",
        "# Create a directory \"test\"\n",
        "os.mkdir(\"test\")"
      ],
      "execution_count": null,
      "outputs": []
    },
    {
      "cell_type": "code",
      "metadata": {
        "colab": {
          "base_uri": "https://localhost:8080/",
          "height": 195
        },
        "id": "gU_JKlpOEG7B",
        "outputId": "6ab27e84-f74c-4a90-cc95-2b84f37350f2"
      },
      "source": [
        "import os\n",
        "\n",
        "# Changing a directory to \"/home/newdir\"\n",
        "os.chdir(\"D:\\prat\")"
      ],
      "execution_count": null,
      "outputs": [
        {
          "output_type": "error",
          "ename": "FileNotFoundError",
          "evalue": "ignored",
          "traceback": [
            "\u001b[0;31m---------------------------------------------------------------------------\u001b[0m",
            "\u001b[0;31mFileNotFoundError\u001b[0m                         Traceback (most recent call last)",
            "\u001b[0;32m<ipython-input-20-af85d3f6f9c3>\u001b[0m in \u001b[0;36m<module>\u001b[0;34m()\u001b[0m\n\u001b[1;32m      2\u001b[0m \u001b[0;34m\u001b[0m\u001b[0m\n\u001b[1;32m      3\u001b[0m \u001b[0;31m# Changing a directory to \"/home/newdir\"\u001b[0m\u001b[0;34m\u001b[0m\u001b[0;34m\u001b[0m\u001b[0;34m\u001b[0m\u001b[0m\n\u001b[0;32m----> 4\u001b[0;31m \u001b[0mos\u001b[0m\u001b[0;34m.\u001b[0m\u001b[0mchdir\u001b[0m\u001b[0;34m(\u001b[0m\u001b[0;34m\"D:\\prat\"\u001b[0m\u001b[0;34m)\u001b[0m\u001b[0;34m\u001b[0m\u001b[0;34m\u001b[0m\u001b[0m\n\u001b[0m",
            "\u001b[0;31mFileNotFoundError\u001b[0m: [Errno 2] No such file or directory: 'D:\\\\prat'"
          ]
        }
      ]
    },
    {
      "cell_type": "code",
      "metadata": {
        "colab": {
          "base_uri": "https://localhost:8080/",
          "height": 195
        },
        "id": "2NPrTpZDEK58",
        "outputId": "438fcb25-e78e-4920-99c8-a6622826ee21"
      },
      "source": [
        "import os\n",
        "\n",
        "# This would give location of the current directory\n",
        "os.getcwd()\n",
        "\n",
        "\n",
        "# This would  remove \"/tmp/test\"  directory.\n",
        "os.rmdir( \"/tmp/test\"  )"
      ],
      "execution_count": null,
      "outputs": [
        {
          "output_type": "error",
          "ename": "FileNotFoundError",
          "evalue": "ignored",
          "traceback": [
            "\u001b[0;31m---------------------------------------------------------------------------\u001b[0m",
            "\u001b[0;31mFileNotFoundError\u001b[0m                         Traceback (most recent call last)",
            "\u001b[0;32m<ipython-input-21-2270b0c65b93>\u001b[0m in \u001b[0;36m<module>\u001b[0;34m()\u001b[0m\n\u001b[1;32m      6\u001b[0m \u001b[0;34m\u001b[0m\u001b[0m\n\u001b[1;32m      7\u001b[0m \u001b[0;31m# This would  remove \"/tmp/test\"  directory.\u001b[0m\u001b[0;34m\u001b[0m\u001b[0;34m\u001b[0m\u001b[0;34m\u001b[0m\u001b[0m\n\u001b[0;32m----> 8\u001b[0;31m \u001b[0mos\u001b[0m\u001b[0;34m.\u001b[0m\u001b[0mrmdir\u001b[0m\u001b[0;34m(\u001b[0m \u001b[0;34m\"/tmp/test\"\u001b[0m  \u001b[0;34m)\u001b[0m\u001b[0;34m\u001b[0m\u001b[0;34m\u001b[0m\u001b[0m\n\u001b[0m",
            "\u001b[0;31mFileNotFoundError\u001b[0m: [Errno 2] No such file or directory: '/tmp/test'"
          ]
        }
      ]
    }
  ]
}
{
  "nbformat": 4,
  "nbformat_minor": 5,
  "metadata": {
    "kernelspec": {
      "display_name": "Python 3",
      "language": "python",
      "name": "python3"
    },
    "language_info": {
      "codemirror_mode": {
        "name": "ipython",
        "version": 3
      },
      "file_extension": ".py",
      "mimetype": "text/x-python",
      "name": "python",
      "nbconvert_exporter": "python",
      "pygments_lexer": "ipython3",
      "version": "3.8.8"
    },
    "colab": {
      "name": "DataFrame.ipynb",
      "provenance": [],
      "include_colab_link": true
    }
  },
  "cells": [
    {
      "cell_type": "markdown",
      "metadata": {
        "id": "view-in-github",
        "colab_type": "text"
      },
      "source": [
        "<a href=\"https://colab.research.google.com/github/mprathyushareddy1629/DAP/blob/main/DataFrame.ipynb\" target=\"_parent\"><img src=\"https://colab.research.google.com/assets/colab-badge.svg\" alt=\"Open In Colab\"/></a>"
      ]
    },
    {
      "cell_type": "code",
      "metadata": {
        "id": "353a21ab",
        "outputId": "db222d84-43ef-45f1-be14-3a8c0a2fa436"
      },
      "source": [
        "import pandas as pd\n",
        "data = [1,2,3,4,5]\n",
        "df = pd.DataFrame(data)\n",
        "print (df)"
      ],
      "id": "353a21ab",
      "execution_count": null,
      "outputs": [
        {
          "name": "stdout",
          "output_type": "stream",
          "text": [
            "   0\n",
            "0  1\n",
            "1  2\n",
            "2  3\n",
            "3  4\n",
            "4  5\n"
          ]
        }
      ]
    },
    {
      "cell_type": "code",
      "metadata": {
        "id": "d67ef396",
        "outputId": "170fad02-10c8-4340-bd3c-ad4ea76f859f"
      },
      "source": [
        "import pandas as pd\n",
        "data = [['Alex',10],['Bob',12],['Clarke',13]]\n",
        "df = pd.DataFrame(data,columns=['Name','Age'])\n",
        "print (df)"
      ],
      "id": "d67ef396",
      "execution_count": null,
      "outputs": [
        {
          "name": "stdout",
          "output_type": "stream",
          "text": [
            "     Name  Age\n",
            "0    Alex   10\n",
            "1     Bob   12\n",
            "2  Clarke   13\n"
          ]
        }
      ]
    },
    {
      "cell_type": "code",
      "metadata": {
        "id": "cf661a2e",
        "outputId": "3709e09f-9c16-409d-e677-be1d786a9fb4"
      },
      "source": [
        "import pandas as pd\n",
        "data = [['Alex',10],['Bob',12],['Clarke',13]]\n",
        "df = pd.DataFrame(data,columns=['Name','Age'])\n",
        "print (df)"
      ],
      "id": "cf661a2e",
      "execution_count": null,
      "outputs": [
        {
          "name": "stdout",
          "output_type": "stream",
          "text": [
            "     Name  Age\n",
            "0    Alex   10\n",
            "1     Bob   12\n",
            "2  Clarke   13\n"
          ]
        }
      ]
    },
    {
      "cell_type": "code",
      "metadata": {
        "id": "e9423660",
        "outputId": "73e3a282-910d-45ac-b72b-5e537e88ffa7"
      },
      "source": [
        "import pandas as pd\n",
        "data = {'Name':['Tom', 'Jack', 'Steve', 'Ricky'],'Age':[28,34,29,42]}\n",
        "df = pd.DataFrame(data)\n",
        "print (df)"
      ],
      "id": "e9423660",
      "execution_count": null,
      "outputs": [
        {
          "name": "stdout",
          "output_type": "stream",
          "text": [
            "    Name  Age\n",
            "0    Tom   28\n",
            "1   Jack   34\n",
            "2  Steve   29\n",
            "3  Ricky   42\n"
          ]
        }
      ]
    },
    {
      "cell_type": "code",
      "metadata": {
        "id": "6c3c4f87",
        "outputId": "cf1af481-8238-42d9-a312-89f35192973a"
      },
      "source": [
        "import pandas as pd\n",
        "data = {'Name':['Tom', 'Jack', 'Steve', 'Ricky'],'Age':[28,34,29,42]}\n",
        "df = pd.DataFrame(data, index=['rank1','rank2','rank3','rank4'])\n",
        "print (df)"
      ],
      "id": "6c3c4f87",
      "execution_count": null,
      "outputs": [
        {
          "name": "stdout",
          "output_type": "stream",
          "text": [
            "        Name  Age\n",
            "rank1    Tom   28\n",
            "rank2   Jack   34\n",
            "rank3  Steve   29\n",
            "rank4  Ricky   42\n"
          ]
        }
      ]
    },
    {
      "cell_type": "code",
      "metadata": {
        "id": "dee78c8f",
        "outputId": "df49232a-0bfc-462e-f806-1bead34ce966"
      },
      "source": [
        "import pandas as pd\n",
        "data = [{'a': 1, 'b': 2},{'a': 5, 'b': 10, 'c': 20}]\n",
        "df = pd.DataFrame(data)\n",
        "print (df)"
      ],
      "id": "dee78c8f",
      "execution_count": null,
      "outputs": [
        {
          "name": "stdout",
          "output_type": "stream",
          "text": [
            "   a   b     c\n",
            "0  1   2   NaN\n",
            "1  5  10  20.0\n"
          ]
        }
      ]
    },
    {
      "cell_type": "code",
      "metadata": {
        "id": "6fb8aa07",
        "outputId": "392b2e73-cdbb-4ef4-beb8-6a95b2144e16"
      },
      "source": [
        "import pandas as pd\n",
        "data = [{'a': 1, 'b': 2},{'a': 5, 'b': 10, 'c': 20}]\n",
        "\n",
        "#With two column indices, values same as dictionary keys\n",
        "df1 = pd.DataFrame(data, index=['first', 'second'], columns=['a', 'b'])\n",
        "\n",
        "#With two column indices with one index with other name\n",
        "df2 = pd.DataFrame(data, index=['first', 'second'], columns=['a', 'b1'])\n",
        "print (df1)\n",
        "print (df2)"
      ],
      "id": "6fb8aa07",
      "execution_count": null,
      "outputs": [
        {
          "name": "stdout",
          "output_type": "stream",
          "text": [
            "        a   b\n",
            "first   1   2\n",
            "second  5  10\n",
            "        a  b1\n",
            "first   1 NaN\n",
            "second  5 NaN\n"
          ]
        }
      ]
    },
    {
      "cell_type": "code",
      "metadata": {
        "id": "34a04b8d",
        "outputId": "a5e22c81-e3a1-4f47-d7ca-09a3e2a2824c"
      },
      "source": [
        "import pandas as pd\n",
        "\n",
        "d = {'one' : pd.Series([1, 2, 3], index=['a', 'b', 'c']),\n",
        "   'two' : pd.Series([1, 2, 3, 4], index=['a', 'b', 'c', 'd'])}\n",
        "\n",
        "df = pd.DataFrame(d)\n",
        "print (df)"
      ],
      "id": "34a04b8d",
      "execution_count": null,
      "outputs": [
        {
          "name": "stdout",
          "output_type": "stream",
          "text": [
            "   one  two\n",
            "a  1.0    1\n",
            "b  2.0    2\n",
            "c  3.0    3\n",
            "d  NaN    4\n"
          ]
        }
      ]
    },
    {
      "cell_type": "code",
      "metadata": {
        "id": "f9c6f323",
        "outputId": "03597af5-a735-4c35-f51e-e4532de07c1b"
      },
      "source": [
        "#column selection\n",
        "\n",
        "import pandas as pd\n",
        "\n",
        "d = {'one' : pd.Series([10, 22, 32], index=['a', 'b', 'c']),\n",
        "   'two' : pd.Series([1, 2, 3, 4], index=['a', 'b', 'c', 'd'])}\n",
        "\n",
        "df = pd.DataFrame(d)\n",
        "print (df['one'])"
      ],
      "id": "f9c6f323",
      "execution_count": null,
      "outputs": [
        {
          "name": "stdout",
          "output_type": "stream",
          "text": [
            "a    10.0\n",
            "b    22.0\n",
            "c    32.0\n",
            "d     NaN\n",
            "Name: one, dtype: float64\n"
          ]
        }
      ]
    },
    {
      "cell_type": "code",
      "metadata": {
        "id": "db4d72d7",
        "outputId": "7946bfc8-23b9-4254-e628-3a7f3da3c40d"
      },
      "source": [
        "#column selection\n",
        "#presence of NAN will convert int to float\n",
        "\n",
        "import pandas as pd\n",
        "\n",
        "de = {'one' : pd.Series([10, 22, 32,44], index=['a', 'b', 'c','d']),\n",
        "   'two' : pd.Series([1, 2, 3, 4], index=['a', 'b', 'c', 'd'])}\n",
        "\n",
        "\n",
        "df = pd.DataFrame(de)\n",
        "print (df['one'])"
      ],
      "id": "db4d72d7",
      "execution_count": null,
      "outputs": [
        {
          "name": "stdout",
          "output_type": "stream",
          "text": [
            "a    10\n",
            "b    22\n",
            "c    32\n",
            "d    44\n",
            "Name: one, dtype: int64\n"
          ]
        }
      ]
    },
    {
      "cell_type": "code",
      "metadata": {
        "id": "33ed2b90",
        "outputId": "4f84d3ff-c685-4dc3-dcc1-731e1319c955"
      },
      "source": [
        "# Adding a new column to an existing DataFrame object with column label by passing new series\n",
        "\n",
        "import pandas as pd\n",
        "\n",
        "d = {'one' : pd.Series([1, 2, 3], index=['a', 'b', 'c']),\n",
        "   'two' : pd.Series([1, 2, 3, 4], index=['a', 'b', 'c', 'd'])}\n",
        "\n",
        "df = pd.DataFrame(d)\n",
        "\n",
        "print (df)\n",
        "\n",
        "print (\"Adding a new column by passing as Series:\")\n",
        "df['three']=pd.Series([10,20,30],index=['a','b','c'])\n",
        "print (df)\n",
        "\n",
        "print (\"Adding a new column using the existing columns in DataFrame:\")\n",
        "df['four']=df['two']+df['three']\n",
        "\n",
        "print (df)"
      ],
      "id": "33ed2b90",
      "execution_count": null,
      "outputs": [
        {
          "name": "stdout",
          "output_type": "stream",
          "text": [
            "   one  two\n",
            "a  1.0    1\n",
            "b  2.0    2\n",
            "c  3.0    3\n",
            "d  NaN    4\n",
            "Adding a new column by passing as Series:\n",
            "   one  two  three\n",
            "a  1.0    1   10.0\n",
            "b  2.0    2   20.0\n",
            "c  3.0    3   30.0\n",
            "d  NaN    4    NaN\n",
            "Adding a new column using the existing columns in DataFrame:\n",
            "   one  two  three  four\n",
            "a  1.0    1   10.0  11.0\n",
            "b  2.0    2   20.0  22.0\n",
            "c  3.0    3   30.0  33.0\n",
            "d  NaN    4    NaN   NaN\n"
          ]
        }
      ]
    },
    {
      "cell_type": "code",
      "metadata": {
        "id": "39603ee5",
        "outputId": "e03a70bc-b1d7-4570-ba86-5149b349d009"
      },
      "source": [
        "# Using the previous DataFrame, we will delete a column\n",
        "# using del function\n",
        "import pandas as pd\n",
        "\n",
        "d = {'one' : pd.Series([1, 2, 3], index=['a', 'b', 'c']), \n",
        "   'two' : pd.Series([1, 2, 3, 4], index=['a', 'b', 'c', 'd']), \n",
        "   'three' : pd.Series([10,20,30], index=['a','b','c'])}\n",
        "\n",
        "df = pd.DataFrame(d)\n",
        "print (\"Our dataframe is:\")\n",
        "print (df)\n",
        "\n",
        "# using del function\n",
        "print (\"Deleting the first column using DEL function:\")\n",
        "del df['one']\n",
        "print (df)\n",
        "# using pop function\n",
        "print (\"Deleting another column using POP function:\")\n",
        "df.pop('two')\n",
        "print (df)"
      ],
      "id": "39603ee5",
      "execution_count": null,
      "outputs": [
        {
          "name": "stdout",
          "output_type": "stream",
          "text": [
            "Our dataframe is:\n",
            "   one  two  three\n",
            "a  1.0    1   10.0\n",
            "b  2.0    2   20.0\n",
            "c  3.0    3   30.0\n",
            "d  NaN    4    NaN\n",
            "Deleting the first column using DEL function:\n",
            "   two  three\n",
            "a    1   10.0\n",
            "b    2   20.0\n",
            "c    3   30.0\n",
            "d    4    NaN\n",
            "Deleting another column using POP function:\n",
            "   three\n",
            "a   10.0\n",
            "b   20.0\n",
            "c   30.0\n",
            "d    NaN\n"
          ]
        }
      ]
    },
    {
      "cell_type": "code",
      "metadata": {
        "id": "19e3bad2",
        "outputId": "ca341291-9348-4316-df26-13a8de56e5f3"
      },
      "source": [
        "#Selection by Label\n",
        "\n",
        "import pandas as pd\n",
        "\n",
        "d = {'one' : pd.Series([1, 2, 3], index=['a', 'b', 'c']), \n",
        "   'two' : pd.Series([1, 2, 3, 4], index=['a', 'b', 'c', 'd'])}\n",
        "\n",
        "df = pd.DataFrame(d)\n",
        "print (df.loc['b'])"
      ],
      "id": "19e3bad2",
      "execution_count": null,
      "outputs": [
        {
          "name": "stdout",
          "output_type": "stream",
          "text": [
            "one    2.0\n",
            "two    2.0\n",
            "Name: b, dtype: float64\n"
          ]
        }
      ]
    },
    {
      "cell_type": "code",
      "metadata": {
        "id": "ea9c30b4",
        "outputId": "01c6324d-005b-4e28-8951-7399f8e2e314"
      },
      "source": [
        "#Selection by integer location\n",
        "\n",
        "import pandas as pd\n",
        "\n",
        "d = {'one' : pd.Series([1, 2, 3], index=['a', 'b', 'c']),\n",
        "   'two' : pd.Series([1, 2, 3, 4], index=['a', 'b', 'c', 'd'])}\n",
        "\n",
        "df = pd.DataFrame(d)\n",
        "print (df.iloc[2])"
      ],
      "id": "ea9c30b4",
      "execution_count": null,
      "outputs": [
        {
          "name": "stdout",
          "output_type": "stream",
          "text": [
            "one    3.0\n",
            "two    3.0\n",
            "Name: c, dtype: float64\n"
          ]
        }
      ]
    },
    {
      "cell_type": "code",
      "metadata": {
        "id": "92749649",
        "outputId": "afacb94e-5916-4988-d215-3efd80b4959d"
      },
      "source": [
        "#Slice Rows using : operator\n",
        "\n",
        "import pandas as pd\n",
        "\n",
        "d = {'one' : pd.Series([1, 2, 3], index=['a', 'b', 'c']), \n",
        "   'two' : pd.Series([1, 2, 3, 4], index=['a', 'b', 'c', 'd'])}\n",
        "\n",
        "df = pd.DataFrame(d)\n",
        "print (df[2:4])"
      ],
      "id": "92749649",
      "execution_count": null,
      "outputs": [
        {
          "name": "stdout",
          "output_type": "stream",
          "text": [
            "   one  two\n",
            "c  3.0    3\n",
            "d  NaN    4\n"
          ]
        }
      ]
    },
    {
      "cell_type": "code",
      "metadata": {
        "id": "4c96c886",
        "outputId": "34d94b20-af0b-4cfb-9788-d1a49084c9ac"
      },
      "source": [
        "#Addition of Rows using append\n",
        "\n",
        "import pandas as pd\n",
        "\n",
        "df = pd.DataFrame([[1, 2], [3, 4]], columns = ['a','b'])\n",
        "df2 = pd.DataFrame([[5, 6], [7, 8]], columns = ['a','b'])\n",
        "print (df)\n",
        "print(\"after appending\")\n",
        "df = df.append(df2)\n",
        "print (df)"
      ],
      "id": "4c96c886",
      "execution_count": null,
      "outputs": [
        {
          "name": "stdout",
          "output_type": "stream",
          "text": [
            "   a  b\n",
            "0  1  2\n",
            "1  3  4\n",
            "after appending\n",
            "   a  b\n",
            "0  1  2\n",
            "1  3  4\n",
            "0  5  6\n",
            "1  7  8\n"
          ]
        }
      ]
    },
    {
      "cell_type": "code",
      "metadata": {
        "id": "f9d1ef83",
        "outputId": "0cbd78b6-2afe-46ea-fdf3-c08da8c80c24"
      },
      "source": [
        "#Deletion of Rows\n",
        "\n",
        "import pandas as pd\n",
        "\n",
        "df = pd.DataFrame([[1, 2], [3, 4]], columns = ['a','b'])\n",
        "df2 = pd.DataFrame([[5, 6], [7, 8]], columns = ['a','b'])\n",
        "\n",
        "df = df.append(df2)\n",
        "\n",
        "# Drop rows with label 0\n",
        "df = df.drop(0)\n",
        "\n",
        "print (df)"
      ],
      "id": "f9d1ef83",
      "execution_count": null,
      "outputs": [
        {
          "name": "stdout",
          "output_type": "stream",
          "text": [
            "   a  b\n",
            "1  3  4\n",
            "1  7  8\n"
          ]
        }
      ]
    },
    {
      "cell_type": "code",
      "metadata": {
        "id": "aa189a1a"
      },
      "source": [
        ""
      ],
      "id": "aa189a1a",
      "execution_count": null,
      "outputs": []
    }
  ]
}